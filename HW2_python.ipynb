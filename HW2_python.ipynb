{
 "cells": [
  {
   "cell_type": "markdown",
   "id": "8bf1c084",
   "metadata": {},
   "source": [
    "# HW 2"
   ]
  },
  {
   "cell_type": "markdown",
   "id": "6c3a3132",
   "metadata": {},
   "source": [
    "### Task 1"
   ]
  },
  {
   "cell_type": "code",
   "execution_count": 1,
   "id": "b6552dc2",
   "metadata": {},
   "outputs": [
    {
     "name": "stdout",
     "output_type": "stream",
     "text": [
      "Введите слово: hfjsahdf jhjfjkasdf\n",
      "Введите слово без пробелов!\n",
      "Введите слово: ghbdtn\n",
      "bd\n"
     ]
    }
   ],
   "source": [
    "while(True):\n",
    "    word_input = str(input('Введите слово: '))\n",
    "    if ' ' not in word_input:\n",
    "        if len(word_input) % 2 == 0:\n",
    "            print(word_input[int(len(word_input) / 2) - 1 : int(len(word_input) / 2) + 1])\n",
    "        else:\n",
    "            print(word_input[int(len(word_input) / 2)])\n",
    "        break\n",
    "    else:\n",
    "        print('Введите слово без пробелов!')"
   ]
  },
  {
   "cell_type": "markdown",
   "id": "4a1da00a",
   "metadata": {},
   "source": [
    "### Task 2"
   ]
  },
  {
   "cell_type": "code",
   "execution_count": 42,
   "id": "9f790746",
   "metadata": {},
   "outputs": [
    {
     "name": "stdout",
     "output_type": "stream",
     "text": [
      "Alex и Emma\n",
      "Arthur и Kate\n",
      "John и Kira\n",
      "Peter и Liza\n",
      "Richard и Trisha\n"
     ]
    }
   ],
   "source": [
    "'''boys = ['Peter', 'Alex', 'John', 'Arthur', 'Richard', 'Michael']\n",
    "girls = ['Kate', 'Liza', 'Kira', 'Emma', 'Trisha']'''\n",
    "\n",
    "import copy\n",
    "\n",
    "boys = ['Peter', 'Alex', 'John', 'Arthur', 'Richard']\n",
    "girls = ['Kate', 'Liza', 'Kira', 'Emma', 'Trisha']\n",
    "\n",
    "#создаём отсортирванные по алфавитному порядку копии изначальных списков\n",
    "sorted_boys = copy.copy(sorted(boys))\n",
    "sorted_girls = copy.copy(sorted(girls))\n",
    "\n",
    "if len(boys) == len(girls):    \n",
    "    for i in list(zip(sorted_boys, sorted_girls)): # создаём кортеж, в котором у нас каждая пара это список\n",
    "        print(f'{i[0]} и {i[1]}')\n",
    "else:\n",
    "    print('Внимание, кто-то может остаться без пары!')"
   ]
  },
  {
   "cell_type": "code",
   "execution_count": null,
   "id": "f8ed2faa",
   "metadata": {},
   "outputs": [],
   "source": []
  }
 ],
 "metadata": {
  "kernelspec": {
   "display_name": "Python 3 (ipykernel)",
   "language": "python",
   "name": "python3"
  },
  "language_info": {
   "codemirror_mode": {
    "name": "ipython",
    "version": 3
   },
   "file_extension": ".py",
   "mimetype": "text/x-python",
   "name": "python",
   "nbconvert_exporter": "python",
   "pygments_lexer": "ipython3",
   "version": "3.9.12"
  }
 },
 "nbformat": 4,
 "nbformat_minor": 5
}
