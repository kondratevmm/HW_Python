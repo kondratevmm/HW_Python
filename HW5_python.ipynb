{
 "cells": [
  {
   "cell_type": "markdown",
   "id": "cc0e7621",
   "metadata": {},
   "source": [
    "# hw5_kondratev_mm"
   ]
  },
  {
   "cell_type": "markdown",
   "id": "acd35063",
   "metadata": {},
   "source": [
    "# Домашнее задание\n",
    "1. Переведите содержимое файла purchase_log.txt в словарь purchases вида:\n",
    "```python\n",
    "{'1840e0b9d4': 'Продукты', ...}\n",
    "```\n",
    "\n",
    "2. Для каждого user_id в файле visit_log.csv определите третий столбец с категорией покупки (если покупка была, сам файл visit_log.csv изменять не надо). Запишите в файл funnel.csv визиты из файла visit_log.csv, в которых были покупки с указанием категории.\n",
    "\n",
    "Учтите условия на данные:\n",
    "- содержимое purchase_log.txt помещается в оперативную память компьютера\n",
    "- содержимое visit_log.csv - нет; используйте только построчную обработку этого файла"
   ]
  },
  {
   "cell_type": "code",
   "execution_count": 1,
   "id": "76d22455",
   "metadata": {},
   "outputs": [],
   "source": [
    "import os"
   ]
  },
  {
   "cell_type": "code",
   "execution_count": 2,
   "id": "b3692798",
   "metadata": {
    "scrolled": true
   },
   "outputs": [
    {
     "name": "stdout",
     "output_type": "stream",
     "text": [
      "purchase_log.txt\n",
      "visit_log.csv\n"
     ]
    }
   ],
   "source": [
    "for file in os.listdir('files_for_study'):\n",
    "    print(file)"
   ]
  },
  {
   "cell_type": "code",
   "execution_count": 3,
   "id": "4b428a5a",
   "metadata": {},
   "outputs": [],
   "source": [
    "visit = open(r'C:\\Users\\m.kondratiev\\python_study\\files_for_study\\visit_log.csv', 'r')"
   ]
  },
  {
   "cell_type": "code",
   "execution_count": 4,
   "id": "f5d38e86",
   "metadata": {},
   "outputs": [
    {
     "data": {
      "text/plain": [
       "'user_id,source\\n'"
      ]
     },
     "execution_count": 4,
     "metadata": {},
     "output_type": "execute_result"
    }
   ],
   "source": [
    "visit.readline()"
   ]
  },
  {
   "cell_type": "markdown",
   "id": "b7023dd7",
   "metadata": {},
   "source": [
    "### Task 1"
   ]
  },
  {
   "cell_type": "code",
   "execution_count": 14,
   "id": "14612168",
   "metadata": {},
   "outputs": [],
   "source": [
    "import json"
   ]
  },
  {
   "cell_type": "code",
   "execution_count": 6,
   "id": "2ab0872d",
   "metadata": {},
   "outputs": [
    {
     "name": "stdout",
     "output_type": "stream",
     "text": [
      "{'user_id': 'user_id', 'category': 'category'} <class 'dict'>\n",
      "{'category': 'Продукты', 'user_id': '1840e0b9d4'} <class 'dict'>\n",
      "{'user_id': '4e4f90fcfb', 'category': 'Электроника'} <class 'dict'>\n",
      "{'user_id': 'afea8d72fc', 'category': 'Электроника'} <class 'dict'>\n",
      "{'user_id': '373a6055fe', 'category': 'Бытовая техника'} <class 'dict'>\n",
      "{'user_id': '9b2ab046f3', 'category': 'Электроника'} <class 'dict'>\n"
     ]
    }
   ],
   "source": [
    "i = 0\n",
    "with open(r'C:\\Users\\m.kondratiev\\python_study\\files_for_study\\purchase_log.txt', 'r' , encoding=\"utf8\") as purchase:\n",
    "    for line in purchase:\n",
    "        line = line.strip()\n",
    "        \n",
    "        dict_ = json.loads(line)\n",
    "        print(dict_, type(dict_))\n",
    "        \n",
    "        i += 1\n",
    "        if i > 5:\n",
    "            break"
   ]
  },
  {
   "cell_type": "markdown",
   "id": "fd436881",
   "metadata": {},
   "source": [
    "### Task 2"
   ]
  },
  {
   "cell_type": "code",
   "execution_count": null,
   "id": "e3dbb3a1",
   "metadata": {},
   "outputs": [],
   "source": [
    "with open(r'C:\\Users\\m.kondratiev\\python_study\\files_for_study\\visit_log.csv', 'r') as visit:\n",
    "    with open(r'C:\\Users\\m.kondratiev\\python_study\\files_for_study\\purchase_log.txt', 'r' , encoding=\"utf8\") as purchase:\n",
    "        with open(r'C:\\Users\\m.kondratiev\\python_study\\files_for_study\\funnel.csv', 'w') as funnel:\n",
    "            for line in funnel:\n",
    "                if "
   ]
  }
 ],
 "metadata": {
  "kernelspec": {
   "display_name": "Python 3 (ipykernel)",
   "language": "python",
   "name": "python3"
  },
  "language_info": {
   "codemirror_mode": {
    "name": "ipython",
    "version": 3
   },
   "file_extension": ".py",
   "mimetype": "text/x-python",
   "name": "python",
   "nbconvert_exporter": "python",
   "pygments_lexer": "ipython3",
   "version": "3.9.12"
  }
 },
 "nbformat": 4,
 "nbformat_minor": 5
}
