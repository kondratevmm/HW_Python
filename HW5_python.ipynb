{
 "cells": [
  {
   "cell_type": "markdown",
   "id": "cc0e7621",
   "metadata": {},
   "source": [
    "# hw5_kondratev_mm"
   ]
  },
  {
   "cell_type": "markdown",
   "id": "acd35063",
   "metadata": {},
   "source": [
    "# Домашнее задание\n",
    "1. Переведите содержимое файла purchase_log.txt в словарь purchases вида:\n",
    "```python\n",
    "{'1840e0b9d4': 'Продукты', ...}\n",
    "```\n",
    "\n",
    "2. Для каждого user_id в файле visit_log.csv определите третий столбец с категорией покупки (если покупка была, сам файл visit_log.csv изменять не надо). Запишите в файл funnel.csv визиты из файла visit_log.csv, в которых были покупки с указанием категории.\n",
    "\n",
    "Учтите условия на данные:\n",
    "- содержимое purchase_log.txt помещается в оперативную память компьютера\n",
    "- содержимое visit_log.csv - нет; используйте только построчную обработку этого файла"
   ]
  },
  {
   "cell_type": "code",
   "execution_count": 1,
   "id": "76d22455",
   "metadata": {},
   "outputs": [],
   "source": [
    "import os"
   ]
  },
  {
   "cell_type": "code",
   "execution_count": 3,
   "id": "b3692798",
   "metadata": {
    "scrolled": true
   },
   "outputs": [
    {
     "name": "stdout",
     "output_type": "stream",
     "text": [
      "funnel.csv\n",
      "purchase_log.txt\n",
      "visit_log.csv\n"
     ]
    }
   ],
   "source": [
    "for file in os.listdir('files_for_study'):\n",
    "    print(file)"
   ]
  },
  {
   "cell_type": "markdown",
   "id": "b7023dd7",
   "metadata": {},
   "source": [
    "### Task 1"
   ]
  },
  {
   "cell_type": "code",
   "execution_count": 4,
   "id": "14612168",
   "metadata": {},
   "outputs": [],
   "source": [
    "import json\n",
    "import numpy as np\n",
    "import pandas as pd"
   ]
  },
  {
   "cell_type": "code",
   "execution_count": 5,
   "id": "16fe8d68",
   "metadata": {},
   "outputs": [
    {
     "name": "stdout",
     "output_type": "stream",
     "text": [
      "{'user_id': 'user_id', 'category': 'category'}\n",
      "{'category': 'Продукты', 'user_id': '1840e0b9d4'}\n",
      "{'user_id': '4e4f90fcfb', 'category': 'Электроника'}\n",
      "{'user_id': 'afea8d72fc', 'category': 'Электроника'}\n",
      "{'user_id': '373a6055fe', 'category': 'Бытовая техника'}\n",
      "{'user_id': '9b2ab046f3', 'category': 'Электроника'}\n"
     ]
    }
   ],
   "source": [
    "i = 0\n",
    "with open(r'files_for_study\\purchase_log.txt', 'r' , encoding=\"utf8\") as purchase:\n",
    "    for line_p in purchase:\n",
    "        line_p = line_p.strip()\n",
    "        \n",
    "        dict_ = json.loads(line_p)\n",
    "        print(dict_)\n",
    "        \n",
    "        i += 1\n",
    "        if i > 5:\n",
    "            break"
   ]
  },
  {
   "cell_type": "code",
   "execution_count": 6,
   "id": "f69ca4e5",
   "metadata": {
    "scrolled": true
   },
   "outputs": [
    {
     "name": "stdout",
     "output_type": "stream",
     "text": [
      "user_id <class 'str'>\n",
      "6450655ae8 <class 'str'>\n",
      "b4ea53e670 <class 'str'>\n",
      "0e37347152 <class 'str'>\n",
      "96064ae9e0 <class 'str'>\n"
     ]
    }
   ],
   "source": [
    "# просто смотрим, как выглядят наши изначальные файлы после базовой трансформации\n",
    "with open(r'files_for_study\\visit_log.csv', 'r') as visit:\n",
    "    i = 0\n",
    "    for line_v in visit:\n",
    "        line_v = line_v.strip().split(',')\n",
    "        users, _ = line_v # объявляем первый элемент списка, а второй игнорируем, он нам не понадобится\n",
    "        i += 1\n",
    "        if i > 5:\n",
    "            break\n",
    "        print(users, type(users))"
   ]
  },
  {
   "cell_type": "markdown",
   "id": "fd436881",
   "metadata": {},
   "source": [
    "### Task 2"
   ]
  },
  {
   "cell_type": "markdown",
   "id": "f6c451b2",
   "metadata": {},
   "source": [
    "import pandas as pd\n",
    "  \n",
    "#Read a text file to a dataframe using read_table function\n",
    "purchase_csv =  pd.read_table(r'files_for_study\\purchase_log.txt', \n",
    "delimiter = ',', header = 0, )\n",
    "\n",
    "print(purchase_csv)"
   ]
  },
  {
   "cell_type": "code",
   "execution_count": 7,
   "id": "4fcd3535",
   "metadata": {
    "scrolled": false
   },
   "outputs": [
    {
     "data": {
      "text/html": [
       "<div>\n",
       "<style scoped>\n",
       "    .dataframe tbody tr th:only-of-type {\n",
       "        vertical-align: middle;\n",
       "    }\n",
       "\n",
       "    .dataframe tbody tr th {\n",
       "        vertical-align: top;\n",
       "    }\n",
       "\n",
       "    .dataframe thead th {\n",
       "        text-align: right;\n",
       "    }\n",
       "</style>\n",
       "<table border=\"1\" class=\"dataframe\">\n",
       "  <thead>\n",
       "    <tr style=\"text-align: right;\">\n",
       "      <th></th>\n",
       "      <th>category</th>\n",
       "    </tr>\n",
       "    <tr>\n",
       "      <th>user_id</th>\n",
       "      <th></th>\n",
       "    </tr>\n",
       "  </thead>\n",
       "  <tbody>\n",
       "    <tr>\n",
       "      <th>1840e0b9d4</th>\n",
       "      <td>Продукты</td>\n",
       "    </tr>\n",
       "    <tr>\n",
       "      <th>4e4f90fcfb</th>\n",
       "      <td>Электроника</td>\n",
       "    </tr>\n",
       "    <tr>\n",
       "      <th>afea8d72fc</th>\n",
       "      <td>Электроника</td>\n",
       "    </tr>\n",
       "    <tr>\n",
       "      <th>373a6055fe</th>\n",
       "      <td>Бытовая техника</td>\n",
       "    </tr>\n",
       "    <tr>\n",
       "      <th>9b2ab046f3</th>\n",
       "      <td>Электроника</td>\n",
       "    </tr>\n",
       "  </tbody>\n",
       "</table>\n",
       "</div>"
      ],
      "text/plain": [
       "                   category\n",
       "user_id                    \n",
       "1840e0b9d4         Продукты\n",
       "4e4f90fcfb      Электроника\n",
       "afea8d72fc      Электроника\n",
       "373a6055fe  Бытовая техника\n",
       "9b2ab046f3      Электроника"
      ]
     },
     "execution_count": 7,
     "metadata": {},
     "output_type": "execute_result"
    }
   ],
   "source": [
    "# Создаём dataframe из файла с покупками\n",
    "purchase_inter = {'user_id' : [], 'category' : []}\n",
    "with open(r'files_for_study\\purchase_log.txt', 'r' , encoding=\"utf8\") as purchase:\n",
    "    xxx = purchase.readlines() #прочитываем все строчки в память\n",
    "    \n",
    "for line_p in xxx[1:]:\n",
    "    dict_p = json.loads(line_p)\n",
    "    purchase_inter['user_id'].append(dict_p['user_id'])\n",
    "    purchase_inter['category'].append(dict_p['category'])\n",
    "\n",
    "purchase_df = pd.DataFrame(data = purchase_inter)\n",
    "purchase_df = purchase_df.set_index('user_id') # задаём значение индекса строки равное user_id\n",
    "purchase_df.head()"
   ]
  },
  {
   "cell_type": "code",
   "execution_count": 8,
   "id": "721da868",
   "metadata": {},
   "outputs": [],
   "source": [
    "import numpy as np\n",
    "import pandas as pd"
   ]
  },
  {
   "cell_type": "code",
   "execution_count": 9,
   "id": "03b8b62a",
   "metadata": {},
   "outputs": [],
   "source": [
    "# считает он долго...\n",
    "funnel_inter = {'user_id' : [], 'source' : [], 'category' : []}\n",
    "\n",
    "funnel = pd.DataFrame(columns=['user_id','source','category'])\n",
    "\n",
    "with open(r'files_for_study\\visit_log.csv', 'r') as visit:\n",
    "    with open(r'files_for_study\\purchase_log.txt', 'r' , encoding=\"utf8\") as purchase:            \n",
    "        for line_v in visit:\n",
    "            line_v = line_v.strip().split(',') # создаём список для построчного чтения\n",
    "            users, source = line_v # объявляем первый элемент списка, а второй игнорируем, он нам не понадобится\n",
    "\n",
    "            if users in purchase_df.index:\n",
    "                funnel_inter['user_id'].append(users)\n",
    "                funnel_inter['source'].append(source)\n",
    "                funnel_inter['category'].append(purchase_df.loc[users, 'category'])\n",
    "\n",
    "funnel_df = pd.DataFrame(data = funnel_inter)\n",
    "funnel_df.to_csv(r'files_for_study\\funnel.csv', index=False, encoding=\"utf-8\")"
   ]
  },
  {
   "cell_type": "code",
   "execution_count": 44,
   "id": "afb9bd0b",
   "metadata": {},
   "outputs": [
    {
     "data": {
      "text/plain": [
       "{'user_id': ['1840e0b9d4', '4e4f90fcfb', 'afea8d72fc'],\n",
       " 'source': ['other', 'context', 'other'],\n",
       " 'category': ['Продукты', 'Электроника', 'Электроника']}"
      ]
     },
     "execution_count": 44,
     "metadata": {},
     "output_type": "execute_result"
    }
   ],
   "source": [
    "# проверяем, чем наполняется словарь\n",
    "funnel_inter"
   ]
  },
  {
   "cell_type": "code",
   "execution_count": 45,
   "id": "c1ec6615",
   "metadata": {
    "scrolled": true
   },
   "outputs": [
    {
     "name": "stdout",
     "output_type": "stream",
     "text": [
      "user_id,source,category\n",
      "\n",
      "1840e0b9d4,other,Продукты\n",
      "\n",
      "4e4f90fcfb,context,Электроника\n",
      "\n",
      "afea8d72fc,other,Электроника\n",
      "\n"
     ]
    }
   ],
   "source": [
    "# что содержится в файле\n",
    "i = 0\n",
    "with open(r'files_for_study\\funnel.csv', 'r', encoding=\"utf-8\") as funnel:\n",
    "    for line_f in funnel:\n",
    "        i += 1\n",
    "        if i >50:\n",
    "            break\n",
    "        print(line_f)"
   ]
  }
 ],
 "metadata": {
  "kernelspec": {
   "display_name": "Python 3 (ipykernel)",
   "language": "python",
   "name": "python3"
  },
  "language_info": {
   "codemirror_mode": {
    "name": "ipython",
    "version": 3
   },
   "file_extension": ".py",
   "mimetype": "text/x-python",
   "name": "python",
   "nbconvert_exporter": "python",
   "pygments_lexer": "ipython3",
   "version": "3.9.12"
  }
 },
 "nbformat": 4,
 "nbformat_minor": 5
}
