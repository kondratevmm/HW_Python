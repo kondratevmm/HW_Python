{
 "cells": [
  {
   "cell_type": "markdown",
   "id": "cc0e7621",
   "metadata": {},
   "source": [
    "# hw5_kondratev_mm"
   ]
  },
  {
   "cell_type": "markdown",
   "id": "acd35063",
   "metadata": {},
   "source": [
    "# Домашнее задание\n",
    "1. Переведите содержимое файла purchase_log.txt в словарь purchases вида:\n",
    "```python\n",
    "{'1840e0b9d4': 'Продукты', ...}\n",
    "```\n",
    "\n",
    "2. Для каждого user_id в файле visit_log.csv определите третий столбец с категорией покупки (если покупка была, сам файл visit_log.csv изменять не надо). Запишите в файл funnel.csv визиты из файла visit_log.csv, в которых были покупки с указанием категории.\n",
    "\n",
    "Учтите условия на данные:\n",
    "- содержимое purchase_log.txt помещается в оперативную память компьютера\n",
    "- содержимое visit_log.csv - нет; используйте только построчную обработку этого файла"
   ]
  },
  {
   "cell_type": "code",
   "execution_count": 5,
   "id": "76d22455",
   "metadata": {},
   "outputs": [],
   "source": [
    "import os"
   ]
  },
  {
   "cell_type": "code",
   "execution_count": 6,
   "id": "b3692798",
   "metadata": {
    "scrolled": true
   },
   "outputs": [
    {
     "name": "stdout",
     "output_type": "stream",
     "text": [
      "funnel.csv\n",
      "purchase_log.txt\n",
      "visit_log.csv\n"
     ]
    }
   ],
   "source": [
    "for file in os.listdir('files_for_study'):\n",
    "    print(file)"
   ]
  },
  {
   "cell_type": "markdown",
   "id": "6e92fee4",
   "metadata": {},
   "source": [
    "visit = open(r'C:\\Users\\m.kondratiev\\python_study\\files_for_study\\visit_log.csv', 'r' , newline = '\\n')"
   ]
  },
  {
   "cell_type": "markdown",
   "id": "80f343ea",
   "metadata": {},
   "source": [
    "visit.readline()"
   ]
  },
  {
   "cell_type": "markdown",
   "id": "11128380",
   "metadata": {},
   "source": [
    "strip_split_visit = visit.readline()"
   ]
  },
  {
   "cell_type": "markdown",
   "id": "ab3a0052",
   "metadata": {},
   "source": [
    "strip_split_visit.strip().split(',')"
   ]
  },
  {
   "cell_type": "markdown",
   "id": "b7023dd7",
   "metadata": {},
   "source": [
    "### Task 1"
   ]
  },
  {
   "cell_type": "code",
   "execution_count": 15,
   "id": "14612168",
   "metadata": {},
   "outputs": [],
   "source": [
    "import json\n",
    "import numpy as np\n",
    "import pandas as pd"
   ]
  },
  {
   "cell_type": "code",
   "execution_count": 9,
   "id": "16fe8d68",
   "metadata": {},
   "outputs": [
    {
     "name": "stdout",
     "output_type": "stream",
     "text": [
      "{'user_id': 'user_id', 'category': 'category'}\n",
      "{'category': 'Продукты', 'user_id': '1840e0b9d4'}\n",
      "{'user_id': '4e4f90fcfb', 'category': 'Электроника'}\n",
      "{'user_id': 'afea8d72fc', 'category': 'Электроника'}\n",
      "{'user_id': '373a6055fe', 'category': 'Бытовая техника'}\n",
      "{'user_id': '9b2ab046f3', 'category': 'Электроника'}\n"
     ]
    }
   ],
   "source": [
    "i = 0\n",
    "with open(r'files_for_study\\purchase_log.txt', 'r' , encoding=\"utf8\") as purchase:\n",
    "    for line_p in purchase:\n",
    "        line_p = line.strip()\n",
    "        \n",
    "        dict_ = json.loads(line)\n",
    "        print(dict_)\n",
    "        \n",
    "        i += 1\n",
    "        if i > 5:\n",
    "            break"
   ]
  },
  {
   "cell_type": "code",
   "execution_count": 85,
   "id": "4fcd3535",
   "metadata": {
    "scrolled": true
   },
   "outputs": [
    {
     "data": {
      "text/html": [
       "<div>\n",
       "<style scoped>\n",
       "    .dataframe tbody tr th:only-of-type {\n",
       "        vertical-align: middle;\n",
       "    }\n",
       "\n",
       "    .dataframe tbody tr th {\n",
       "        vertical-align: top;\n",
       "    }\n",
       "\n",
       "    .dataframe thead th {\n",
       "        text-align: right;\n",
       "    }\n",
       "</style>\n",
       "<table border=\"1\" class=\"dataframe\">\n",
       "  <thead>\n",
       "    <tr style=\"text-align: right;\">\n",
       "      <th></th>\n",
       "      <th>user_id</th>\n",
       "      <th>category</th>\n",
       "    </tr>\n",
       "  </thead>\n",
       "  <tbody>\n",
       "    <tr>\n",
       "      <th>0</th>\n",
       "      <td>1840e0b9d4</td>\n",
       "      <td>Продукты</td>\n",
       "    </tr>\n",
       "    <tr>\n",
       "      <th>1</th>\n",
       "      <td>4e4f90fcfb</td>\n",
       "      <td>Электроника</td>\n",
       "    </tr>\n",
       "    <tr>\n",
       "      <th>2</th>\n",
       "      <td>afea8d72fc</td>\n",
       "      <td>Электроника</td>\n",
       "    </tr>\n",
       "    <tr>\n",
       "      <th>3</th>\n",
       "      <td>373a6055fe</td>\n",
       "      <td>Бытовая техника</td>\n",
       "    </tr>\n",
       "    <tr>\n",
       "      <th>4</th>\n",
       "      <td>9b2ab046f3</td>\n",
       "      <td>Электроника</td>\n",
       "    </tr>\n",
       "  </tbody>\n",
       "</table>\n",
       "</div>"
      ],
      "text/plain": [
       "      user_id         category\n",
       "0  1840e0b9d4         Продукты\n",
       "1  4e4f90fcfb      Электроника\n",
       "2  afea8d72fc      Электроника\n",
       "3  373a6055fe  Бытовая техника\n",
       "4  9b2ab046f3      Электроника"
      ]
     },
     "execution_count": 85,
     "metadata": {},
     "output_type": "execute_result"
    }
   ],
   "source": [
    "purchase_inter = {'user_id' : [], 'category' : []}\n",
    "with open(r'files_for_study\\purchase_log.txt', 'r' , encoding=\"utf8\") as purchase:\n",
    "    xxx = purchase.readlines()\n",
    "    \n",
    "for line_p in xxx[1:]:\n",
    "    dict_p = json.loads(line_p)\n",
    "    purchase_inter['user_id'].append(dict_p['user_id'])\n",
    "    purchase_inter['category'].append(dict_p['category'])\n",
    "\n",
    "purchase_df = pd.DataFrame(data = purchase_inter)\n",
    "purchase_df.head()"
   ]
  },
  {
   "cell_type": "code",
   "execution_count": 86,
   "id": "508893e1",
   "metadata": {},
   "outputs": [
    {
     "data": {
      "text/plain": [
       "3    Бытовая техника\n",
       "Name: category, dtype: object"
      ]
     },
     "execution_count": 86,
     "metadata": {},
     "output_type": "execute_result"
    }
   ],
   "source": [
    "ppp = '373a6055fe'\n",
    "purchase_df['category'][purchase_df['user_id'] == ppp]"
   ]
  },
  {
   "cell_type": "markdown",
   "id": "fd436881",
   "metadata": {},
   "source": [
    "### Task 2"
   ]
  },
  {
   "cell_type": "markdown",
   "id": "f6c451b2",
   "metadata": {},
   "source": [
    "import pandas as pd\n",
    "  \n",
    "#Read a text file to a dataframe using read_table function\n",
    "purchase_csv =  pd.read_table(r'files_for_study\\purchase_log.txt', \n",
    "delimiter = ',', header = 0, )\n",
    "\n",
    "print(purchase_csv)"
   ]
  },
  {
   "cell_type": "code",
   "execution_count": 87,
   "id": "721da868",
   "metadata": {},
   "outputs": [],
   "source": [
    "import numpy as np\n",
    "import pandas as pd"
   ]
  },
  {
   "cell_type": "code",
   "execution_count": 107,
   "id": "e3dbb3a1",
   "metadata": {},
   "outputs": [
    {
     "ename": "IndentationError",
     "evalue": "unexpected unindent (439035690.py, line 13)",
     "output_type": "error",
     "traceback": [
      "\u001b[1;36m  Input \u001b[1;32mIn [107]\u001b[1;36m\u001b[0m\n\u001b[1;33m    funnel = pd.DataFrame(data = funnel_inter)\u001b[0m\n\u001b[1;37m    ^\u001b[0m\n\u001b[1;31mIndentationError\u001b[0m\u001b[1;31m:\u001b[0m unexpected unindent\n"
     ]
    }
   ],
   "source": [
    "funnel_inter = {'user_id' : [], 'category' : []}\n",
    "\n",
    "funnel = pd.DataFrame(columns=['user_id','category'])\n",
    "\n",
    "with open(r'files_for_study\\visit_log.csv', 'r') as visit:\n",
    "    with open(r'files_for_study\\purchase_log.txt', 'r' , encoding=\"utf8\") as purchase:            \n",
    "        for line_v in visit:\n",
    "            line_v = line_v.strip().split(',')\n",
    "            try:\n",
    "                if line_v[0] == purchase_df[purchase_df['user_id'] == line_v]['user_id']: # проверяем наличие id в DataFrame         \n",
    "                    funnel_inter['user_id'].append(purchase_df['user_id'])\n",
    "                    funnel_inter['category'].append(purchase_df['category'])\n",
    "        \n",
    "        funnel = pd.DataFrame(data = funnel_inter)\n",
    "        funnel.to_csv(r'files_for_study\\funnel.csv')\n"
   ]
  },
  {
   "cell_type": "code",
   "execution_count": 105,
   "id": "afb9bd0b",
   "metadata": {},
   "outputs": [
    {
     "data": {
      "text/html": [
       "<div>\n",
       "<style scoped>\n",
       "    .dataframe tbody tr th:only-of-type {\n",
       "        vertical-align: middle;\n",
       "    }\n",
       "\n",
       "    .dataframe tbody tr th {\n",
       "        vertical-align: top;\n",
       "    }\n",
       "\n",
       "    .dataframe thead th {\n",
       "        text-align: right;\n",
       "    }\n",
       "</style>\n",
       "<table border=\"1\" class=\"dataframe\">\n",
       "  <thead>\n",
       "    <tr style=\"text-align: right;\">\n",
       "      <th></th>\n",
       "      <th>user_id</th>\n",
       "      <th>category</th>\n",
       "    </tr>\n",
       "  </thead>\n",
       "  <tbody>\n",
       "  </tbody>\n",
       "</table>\n",
       "</div>"
      ],
      "text/plain": [
       "Empty DataFrame\n",
       "Columns: [user_id, category]\n",
       "Index: []"
      ]
     },
     "execution_count": 105,
     "metadata": {},
     "output_type": "execute_result"
    }
   ],
   "source": [
    "funnel.head()"
   ]
  },
  {
   "cell_type": "code",
   "execution_count": 81,
   "id": "54672f56",
   "metadata": {
    "scrolled": true
   },
   "outputs": [
    {
     "ename": "ValueError",
     "evalue": "The truth value of a Series is ambiguous. Use a.empty, a.bool(), a.item(), a.any() or a.all().",
     "output_type": "error",
     "traceback": [
      "\u001b[1;31m---------------------------------------------------------------------------\u001b[0m",
      "\u001b[1;31mValueError\u001b[0m                                Traceback (most recent call last)",
      "Input \u001b[1;32mIn [81]\u001b[0m, in \u001b[0;36m<cell line: 2>\u001b[1;34m()\u001b[0m\n\u001b[0;32m      1\u001b[0m ppp \u001b[38;5;241m=\u001b[39m \u001b[38;5;124m'\u001b[39m\u001b[38;5;124mafea8d72fc\u001b[39m\u001b[38;5;124m'\u001b[39m\n\u001b[1;32m----> 2\u001b[0m \u001b[38;5;28;01mif\u001b[39;00m \u001b[43mppp\u001b[49m\u001b[43m \u001b[49m\u001b[38;5;241;43m==\u001b[39;49m\u001b[43m \u001b[49m\u001b[43mpurchase_df\u001b[49m\u001b[43m[\u001b[49m\u001b[43mpurchase_df\u001b[49m\u001b[43m[\u001b[49m\u001b[38;5;124;43m'\u001b[39;49m\u001b[38;5;124;43muser_id\u001b[39;49m\u001b[38;5;124;43m'\u001b[39;49m\u001b[43m]\u001b[49m\u001b[43m \u001b[49m\u001b[38;5;241;43m==\u001b[39;49m\u001b[43m \u001b[49m\u001b[43mppp\u001b[49m\u001b[43m]\u001b[49m\u001b[43m[\u001b[49m\u001b[38;5;124;43m'\u001b[39;49m\u001b[38;5;124;43muser_id\u001b[39;49m\u001b[38;5;124;43m'\u001b[39;49m\u001b[43m]\u001b[49m:                \n\u001b[0;32m      3\u001b[0m     funnel[\u001b[38;5;124m'\u001b[39m\u001b[38;5;124muser_id\u001b[39m\u001b[38;5;124m'\u001b[39m]\u001b[38;5;241m.\u001b[39mappend(purchase_df[\u001b[38;5;124m'\u001b[39m\u001b[38;5;124muser_id\u001b[39m\u001b[38;5;124m'\u001b[39m])\n\u001b[0;32m      4\u001b[0m     funnel[\u001b[38;5;124m'\u001b[39m\u001b[38;5;124mcategory\u001b[39m\u001b[38;5;124m'\u001b[39m]\u001b[38;5;241m.\u001b[39mappend(purchase_df[\u001b[38;5;124m'\u001b[39m\u001b[38;5;124mcategory\u001b[39m\u001b[38;5;124m'\u001b[39m])\n",
      "File \u001b[1;32m~\\anaconda3\\lib\\site-packages\\pandas\\core\\generic.py:1527\u001b[0m, in \u001b[0;36mNDFrame.__nonzero__\u001b[1;34m(self)\u001b[0m\n\u001b[0;32m   1525\u001b[0m \u001b[38;5;129m@final\u001b[39m\n\u001b[0;32m   1526\u001b[0m \u001b[38;5;28;01mdef\u001b[39;00m \u001b[38;5;21m__nonzero__\u001b[39m(\u001b[38;5;28mself\u001b[39m):\n\u001b[1;32m-> 1527\u001b[0m     \u001b[38;5;28;01mraise\u001b[39;00m \u001b[38;5;167;01mValueError\u001b[39;00m(\n\u001b[0;32m   1528\u001b[0m         \u001b[38;5;124mf\u001b[39m\u001b[38;5;124m\"\u001b[39m\u001b[38;5;124mThe truth value of a \u001b[39m\u001b[38;5;132;01m{\u001b[39;00m\u001b[38;5;28mtype\u001b[39m(\u001b[38;5;28mself\u001b[39m)\u001b[38;5;241m.\u001b[39m\u001b[38;5;18m__name__\u001b[39m\u001b[38;5;132;01m}\u001b[39;00m\u001b[38;5;124m is ambiguous. \u001b[39m\u001b[38;5;124m\"\u001b[39m\n\u001b[0;32m   1529\u001b[0m         \u001b[38;5;124m\"\u001b[39m\u001b[38;5;124mUse a.empty, a.bool(), a.item(), a.any() or a.all().\u001b[39m\u001b[38;5;124m\"\u001b[39m\n\u001b[0;32m   1530\u001b[0m     )\n",
      "\u001b[1;31mValueError\u001b[0m: The truth value of a Series is ambiguous. Use a.empty, a.bool(), a.item(), a.any() or a.all()."
     ]
    }
   ],
   "source": [
    "ppp = 'afea8d72fc'\n",
    "if ppp == purchase_df[purchase_df['user_id'] == ppp]['user_id']:                \n",
    "    funnel['user_id'].append(purchase_df['user_id'])\n",
    "    funnel['category'].append(purchase_df['category'])\n",
    "    funnel.to_csv(r'files_for_study\\funnel.csv')\n"
   ]
  },
  {
   "cell_type": "code",
   "execution_count": 45,
   "id": "c1ec6615",
   "metadata": {},
   "outputs": [],
   "source": [
    "with open(r'files_for_study\\funnel.csv', 'r') as funnel:\n",
    "    for line_f in funnel:\n",
    "        print(line_f)\n",
    "        break"
   ]
  },
  {
   "cell_type": "code",
   "execution_count": 31,
   "id": "f69ca4e5",
   "metadata": {
    "scrolled": true
   },
   "outputs": [
    {
     "name": "stdout",
     "output_type": "stream",
     "text": [
      "user_id <class 'list'>\n",
      "6450655ae8 <class 'list'>\n",
      "b4ea53e670 <class 'list'>\n",
      "0e37347152 <class 'list'>\n",
      "96064ae9e0 <class 'list'>\n"
     ]
    }
   ],
   "source": [
    "with open(r'files_for_study\\visit_log.csv', 'r') as visit:\n",
    "    i = 0\n",
    "    for line_v in visit:\n",
    "        line_v = line_v.strip().split(',')\n",
    "        i += 1\n",
    "        if i > 5:\n",
    "            break\n",
    "        print(line_v[0], type(line_v))"
   ]
  },
  {
   "cell_type": "code",
   "execution_count": null,
   "id": "4bad783c",
   "metadata": {},
   "outputs": [],
   "source": []
  }
 ],
 "metadata": {
  "kernelspec": {
   "display_name": "Python 3 (ipykernel)",
   "language": "python",
   "name": "python3"
  },
  "language_info": {
   "codemirror_mode": {
    "name": "ipython",
    "version": 3
   },
   "file_extension": ".py",
   "mimetype": "text/x-python",
   "name": "python",
   "nbconvert_exporter": "python",
   "pygments_lexer": "ipython3",
   "version": "3.9.12"
  }
 },
 "nbformat": 4,
 "nbformat_minor": 5
}
