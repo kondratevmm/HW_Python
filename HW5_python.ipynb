{
 "cells": [
  {
   "cell_type": "markdown",
   "id": "cc0e7621",
   "metadata": {},
   "source": [
    "# hw5_kondratev_mm"
   ]
  },
  {
   "cell_type": "markdown",
   "id": "acd35063",
   "metadata": {},
   "source": [
    "# Домашнее задание\n",
    "1. Переведите содержимое файла purchase_log.txt в словарь purchases вида:\n",
    "```python\n",
    "{'1840e0b9d4': 'Продукты', ...}\n",
    "```\n",
    "\n",
    "2. Для каждого user_id в файле visit_log.csv определите третий столбец с категорией покупки (если покупка была, сам файл visit_log.csv изменять не надо). Запишите в файл funnel.csv визиты из файла visit_log.csv, в которых были покупки с указанием категории.\n",
    "\n",
    "Учтите условия на данные:\n",
    "- содержимое purchase_log.txt помещается в оперативную память компьютера\n",
    "- содержимое visit_log.csv - нет; используйте только построчную обработку этого файла"
   ]
  },
  {
   "cell_type": "code",
   "execution_count": 1,
   "id": "76d22455",
   "metadata": {},
   "outputs": [],
   "source": [
    "import os"
   ]
  },
  {
   "cell_type": "code",
   "execution_count": 2,
   "id": "b3692798",
   "metadata": {
    "scrolled": true
   },
   "outputs": [
    {
     "name": "stdout",
     "output_type": "stream",
     "text": [
      "funnel.csv\n",
      "purchase_log.txt\n",
      "test.csv\n",
      "visit_log.csv\n"
     ]
    }
   ],
   "source": [
    "for file in os.listdir('files_for_study'):\n",
    "    print(file)"
   ]
  },
  {
   "cell_type": "markdown",
   "id": "6e92fee4",
   "metadata": {},
   "source": [
    "visit = open(r'C:\\Users\\m.kondratiev\\python_study\\files_for_study\\visit_log.csv', 'r' , newline = '\\n')"
   ]
  },
  {
   "cell_type": "markdown",
   "id": "80f343ea",
   "metadata": {},
   "source": [
    "visit.readline()"
   ]
  },
  {
   "cell_type": "markdown",
   "id": "11128380",
   "metadata": {},
   "source": [
    "strip_split_visit = visit.readline()"
   ]
  },
  {
   "cell_type": "markdown",
   "id": "ab3a0052",
   "metadata": {},
   "source": [
    "strip_split_visit.strip().split(',')"
   ]
  },
  {
   "cell_type": "markdown",
   "id": "b7023dd7",
   "metadata": {},
   "source": [
    "### Task 1"
   ]
  },
  {
   "cell_type": "code",
   "execution_count": 3,
   "id": "14612168",
   "metadata": {},
   "outputs": [],
   "source": [
    "import json"
   ]
  },
  {
   "cell_type": "code",
   "execution_count": 4,
   "id": "16fe8d68",
   "metadata": {},
   "outputs": [
    {
     "name": "stdout",
     "output_type": "stream",
     "text": [
      "{'user_id': 'user_id', 'category': 'category'}\n",
      "{'category': 'Продукты', 'user_id': '1840e0b9d4'}\n",
      "{'user_id': '4e4f90fcfb', 'category': 'Электроника'}\n",
      "{'user_id': 'afea8d72fc', 'category': 'Электроника'}\n",
      "{'user_id': '373a6055fe', 'category': 'Бытовая техника'}\n",
      "{'user_id': '9b2ab046f3', 'category': 'Электроника'}\n"
     ]
    }
   ],
   "source": [
    "i = 0\n",
    "with open(r'files_for_study\\purchase_log.txt', 'r' , encoding=\"utf8\") as purchase:\n",
    "    for line in purchase:\n",
    "        line = line.strip()\n",
    "        \n",
    "        dict_ = json.loads(line)\n",
    "        print(dict_)\n",
    "        \n",
    "        i += 1\n",
    "        if i > 5:\n",
    "            break"
   ]
  },
  {
   "cell_type": "markdown",
   "id": "fd436881",
   "metadata": {},
   "source": [
    "### Task 2"
   ]
  },
  {
   "cell_type": "code",
   "execution_count": 5,
   "id": "1133594a",
   "metadata": {},
   "outputs": [],
   "source": [
    "import pandas as pd\n",
    "csv_input = pd.read_csv(r'files_for_study\\visit_log.csv')\n",
    "csv_input['Category'] = ''\n",
    "csv_input.to_csv(r'files_for_study\\funnel.csv', index=False)"
   ]
  },
  {
   "cell_type": "markdown",
   "id": "f6c451b2",
   "metadata": {},
   "source": [
    "import pandas as pd\n",
    "  \n",
    "#Read a text file to a dataframe using read_table function\n",
    "purchase_csv =  pd.read_table(r'files_for_study\\purchase_log.txt', \n",
    "delimiter = ',', header = 0, )\n",
    "\n",
    "print(purchase_csv)"
   ]
  },
  {
   "cell_type": "code",
   "execution_count": 6,
   "id": "721da868",
   "metadata": {},
   "outputs": [],
   "source": [
    "import numpy as np\n",
    "import pandas as pd"
   ]
  },
  {
   "cell_type": "code",
   "execution_count": 204,
   "id": "8979cdc5",
   "metadata": {},
   "outputs": [],
   "source": [
    "def get_purchase(user_id) -> str:\n",
    "    with open(r'files_for_study\\purchase_log.txt', 'r' , encoding=\"utf8\") as purchase:\n",
    "        dict_final = {}\n",
    "        for line_p in purchase:\n",
    "            line_p = line_p.strip()        \n",
    "            dict_ = json.loads(line_p)\n",
    "            "
   ]
  },
  {
   "cell_type": "code",
   "execution_count": 205,
   "id": "f9437772",
   "metadata": {},
   "outputs": [],
   "source": [
    "get_purchase('4e4f90fcf')"
   ]
  },
  {
   "cell_type": "code",
   "execution_count": 125,
   "id": "e3dbb3a1",
   "metadata": {},
   "outputs": [
    {
     "ename": "ValueError",
     "evalue": "Shape of passed values is (2, 1), indices imply (2, 2)",
     "output_type": "error",
     "traceback": [
      "\u001b[1;31m---------------------------------------------------------------------------\u001b[0m",
      "\u001b[1;31mValueError\u001b[0m                                Traceback (most recent call last)",
      "Input \u001b[1;32mIn [125]\u001b[0m, in \u001b[0;36m<cell line: 1>\u001b[1;34m()\u001b[0m\n\u001b[0;32m      5\u001b[0m line_v \u001b[38;5;241m=\u001b[39m [\u001b[38;5;124m'\u001b[39m\u001b[38;5;124m1\u001b[39m\u001b[38;5;124m'\u001b[39m, \u001b[38;5;124m'\u001b[39m\u001b[38;5;124m2\u001b[39m\u001b[38;5;124m'\u001b[39m]\n\u001b[0;32m      6\u001b[0m arr_funnel \u001b[38;5;241m=\u001b[39m np\u001b[38;5;241m.\u001b[39marray([line_v[\u001b[38;5;241m0\u001b[39m], dict_[\u001b[38;5;124m'\u001b[39m\u001b[38;5;124mcategory\u001b[39m\u001b[38;5;124m'\u001b[39m]])\n\u001b[1;32m----> 7\u001b[0m funnel \u001b[38;5;241m=\u001b[39m \u001b[43mpd\u001b[49m\u001b[38;5;241;43m.\u001b[39;49m\u001b[43mDataFrame\u001b[49m\u001b[43m(\u001b[49m\u001b[43marr_funnel\u001b[49m\u001b[43m,\u001b[49m\u001b[43m \u001b[49m\u001b[43mcolumns\u001b[49m\u001b[38;5;241;43m=\u001b[39;49m\u001b[43m[\u001b[49m\u001b[38;5;124;43m'\u001b[39;49m\u001b[38;5;124;43muser_id\u001b[39;49m\u001b[38;5;124;43m'\u001b[39;49m\u001b[43m \u001b[49m\u001b[43m,\u001b[49m\u001b[43m \u001b[49m\u001b[38;5;124;43m'\u001b[39;49m\u001b[38;5;124;43mcategory\u001b[39;49m\u001b[38;5;124;43m'\u001b[39;49m\u001b[43m]\u001b[49m\u001b[43m)\u001b[49m\n\u001b[0;32m      8\u001b[0m funnel\u001b[38;5;241m.\u001b[39mto_csv(\u001b[38;5;124mr\u001b[39m\u001b[38;5;124m'\u001b[39m\u001b[38;5;124mfiles_for_study\u001b[39m\u001b[38;5;124m\\\u001b[39m\u001b[38;5;124mfunnel.csv\u001b[39m\u001b[38;5;124m'\u001b[39m)\n\u001b[0;32m      9\u001b[0m \u001b[38;5;28;01mfor\u001b[39;00m line_p \u001b[38;5;129;01min\u001b[39;00m purchase:\n",
      "File \u001b[1;32m~\\Anaconda3\\lib\\site-packages\\pandas\\core\\frame.py:694\u001b[0m, in \u001b[0;36mDataFrame.__init__\u001b[1;34m(self, data, index, columns, dtype, copy)\u001b[0m\n\u001b[0;32m    684\u001b[0m         mgr \u001b[38;5;241m=\u001b[39m dict_to_mgr(\n\u001b[0;32m    685\u001b[0m             \u001b[38;5;66;03m# error: Item \"ndarray\" of \"Union[ndarray, Series, Index]\" has no\u001b[39;00m\n\u001b[0;32m    686\u001b[0m             \u001b[38;5;66;03m# attribute \"name\"\u001b[39;00m\n\u001b[1;32m   (...)\u001b[0m\n\u001b[0;32m    691\u001b[0m             typ\u001b[38;5;241m=\u001b[39mmanager,\n\u001b[0;32m    692\u001b[0m         )\n\u001b[0;32m    693\u001b[0m     \u001b[38;5;28;01melse\u001b[39;00m:\n\u001b[1;32m--> 694\u001b[0m         mgr \u001b[38;5;241m=\u001b[39m \u001b[43mndarray_to_mgr\u001b[49m\u001b[43m(\u001b[49m\n\u001b[0;32m    695\u001b[0m \u001b[43m            \u001b[49m\u001b[43mdata\u001b[49m\u001b[43m,\u001b[49m\n\u001b[0;32m    696\u001b[0m \u001b[43m            \u001b[49m\u001b[43mindex\u001b[49m\u001b[43m,\u001b[49m\n\u001b[0;32m    697\u001b[0m \u001b[43m            \u001b[49m\u001b[43mcolumns\u001b[49m\u001b[43m,\u001b[49m\n\u001b[0;32m    698\u001b[0m \u001b[43m            \u001b[49m\u001b[43mdtype\u001b[49m\u001b[38;5;241;43m=\u001b[39;49m\u001b[43mdtype\u001b[49m\u001b[43m,\u001b[49m\n\u001b[0;32m    699\u001b[0m \u001b[43m            \u001b[49m\u001b[43mcopy\u001b[49m\u001b[38;5;241;43m=\u001b[39;49m\u001b[43mcopy\u001b[49m\u001b[43m,\u001b[49m\n\u001b[0;32m    700\u001b[0m \u001b[43m            \u001b[49m\u001b[43mtyp\u001b[49m\u001b[38;5;241;43m=\u001b[39;49m\u001b[43mmanager\u001b[49m\u001b[43m,\u001b[49m\n\u001b[0;32m    701\u001b[0m \u001b[43m        \u001b[49m\u001b[43m)\u001b[49m\n\u001b[0;32m    703\u001b[0m \u001b[38;5;66;03m# For data is list-like, or Iterable (will consume into list)\u001b[39;00m\n\u001b[0;32m    704\u001b[0m \u001b[38;5;28;01melif\u001b[39;00m is_list_like(data):\n",
      "File \u001b[1;32m~\\Anaconda3\\lib\\site-packages\\pandas\\core\\internals\\construction.py:351\u001b[0m, in \u001b[0;36mndarray_to_mgr\u001b[1;34m(values, index, columns, dtype, copy, typ)\u001b[0m\n\u001b[0;32m    346\u001b[0m \u001b[38;5;66;03m# _prep_ndarray ensures that values.ndim == 2 at this point\u001b[39;00m\n\u001b[0;32m    347\u001b[0m index, columns \u001b[38;5;241m=\u001b[39m _get_axes(\n\u001b[0;32m    348\u001b[0m     values\u001b[38;5;241m.\u001b[39mshape[\u001b[38;5;241m0\u001b[39m], values\u001b[38;5;241m.\u001b[39mshape[\u001b[38;5;241m1\u001b[39m], index\u001b[38;5;241m=\u001b[39mindex, columns\u001b[38;5;241m=\u001b[39mcolumns\n\u001b[0;32m    349\u001b[0m )\n\u001b[1;32m--> 351\u001b[0m \u001b[43m_check_values_indices_shape_match\u001b[49m\u001b[43m(\u001b[49m\u001b[43mvalues\u001b[49m\u001b[43m,\u001b[49m\u001b[43m \u001b[49m\u001b[43mindex\u001b[49m\u001b[43m,\u001b[49m\u001b[43m \u001b[49m\u001b[43mcolumns\u001b[49m\u001b[43m)\u001b[49m\n\u001b[0;32m    353\u001b[0m \u001b[38;5;28;01mif\u001b[39;00m typ \u001b[38;5;241m==\u001b[39m \u001b[38;5;124m\"\u001b[39m\u001b[38;5;124marray\u001b[39m\u001b[38;5;124m\"\u001b[39m:\n\u001b[0;32m    355\u001b[0m     \u001b[38;5;28;01mif\u001b[39;00m \u001b[38;5;28missubclass\u001b[39m(values\u001b[38;5;241m.\u001b[39mdtype\u001b[38;5;241m.\u001b[39mtype, \u001b[38;5;28mstr\u001b[39m):\n",
      "File \u001b[1;32m~\\Anaconda3\\lib\\site-packages\\pandas\\core\\internals\\construction.py:422\u001b[0m, in \u001b[0;36m_check_values_indices_shape_match\u001b[1;34m(values, index, columns)\u001b[0m\n\u001b[0;32m    420\u001b[0m passed \u001b[38;5;241m=\u001b[39m values\u001b[38;5;241m.\u001b[39mshape\n\u001b[0;32m    421\u001b[0m implied \u001b[38;5;241m=\u001b[39m (\u001b[38;5;28mlen\u001b[39m(index), \u001b[38;5;28mlen\u001b[39m(columns))\n\u001b[1;32m--> 422\u001b[0m \u001b[38;5;28;01mraise\u001b[39;00m \u001b[38;5;167;01mValueError\u001b[39;00m(\u001b[38;5;124mf\u001b[39m\u001b[38;5;124m\"\u001b[39m\u001b[38;5;124mShape of passed values is \u001b[39m\u001b[38;5;132;01m{\u001b[39;00mpassed\u001b[38;5;132;01m}\u001b[39;00m\u001b[38;5;124m, indices imply \u001b[39m\u001b[38;5;132;01m{\u001b[39;00mimplied\u001b[38;5;132;01m}\u001b[39;00m\u001b[38;5;124m\"\u001b[39m)\n",
      "\u001b[1;31mValueError\u001b[0m: Shape of passed values is (2, 1), indices imply (2, 2)"
     ]
    }
   ],
   "source": [
    "with open(r'files_for_study\\visit_log.csv', 'r') as visit:\n",
    "    with open(r'files_for_study\\purchase_log.txt', 'r' , encoding=\"utf8\") as purchase:\n",
    "        with open(r'files_for_study\\funnel.csv', 'w') as funnel:\n",
    "            dict_ = {'user_id' : '1','category' : '2'}\n",
    "            line_v = ['1', '2']\n",
    "            \n",
    "            arr_funnel = np.array([line_v[0], dict_['category']])\n",
    "            funnel = pd.DataFrame(arr_funnel, columns=['user_id' , 'category'])\n",
    "            funnel.to_csv(r'files_for_study\\funnel.csv')\n",
    "            \n",
    "            for line_p in purchase:\n",
    "                line_p = line_p.strip()        \n",
    "                dict_ = json.loads(line_p)\n",
    "                \n",
    "                for line_v in visit:\n",
    "                    line_v = line_v.strip().split(',')\n",
    "                    \n",
    "                    if line_v[0] in dict_['user_id']:\n",
    "                        funnel.append([line_v[0], dict_['category']])"
   ]
  },
  {
   "cell_type": "code",
   "execution_count": 115,
   "id": "c1ec6615",
   "metadata": {},
   "outputs": [
    {
     "name": "stdout",
     "output_type": "stream",
     "text": [
      ",user_id\n",
      "\n",
      ",category\n",
      "\n",
      "0,user_id\n",
      "\n",
      "1,category\n",
      "\n"
     ]
    }
   ],
   "source": [
    "with open(r'files_for_study\\funnel.csv', 'r') as funnel:\n",
    "    for line_f in funnel:\n",
    "        print(line_f)"
   ]
  },
  {
   "cell_type": "code",
   "execution_count": 153,
   "id": "f69ca4e5",
   "metadata": {},
   "outputs": [
    {
     "name": "stdout",
     "output_type": "stream",
     "text": [
      "['user_id', 'source']\n",
      "['6450655ae8', 'other']\n",
      "['b4ea53e670', 'other']\n",
      "['0e37347152', 'other']\n",
      "['96064ae9e0', 'other']\n"
     ]
    }
   ],
   "source": [
    "with open(r'files_for_study\\visit_log.csv', 'r') as visit:\n",
    "    i = 0\n",
    "    for line_v in visit:\n",
    "        line_v = line_v.strip().split(',')\n",
    "        i += 1\n",
    "        if i > 5:\n",
    "            break\n",
    "        print(line_v[0], type(line_v[0]))"
   ]
  },
  {
   "cell_type": "code",
   "execution_count": 180,
   "id": "8b649ea7",
   "metadata": {
    "scrolled": true
   },
   "outputs": [
    {
     "name": "stdout",
     "output_type": "stream",
     "text": [
      "{'user_id': 'user_id', 'category': 'category'} <class 'dict'>\n",
      "{'category': 'Продукты', 'user_id': '1840e0b9d4'} <class 'dict'>\n",
      "{'user_id': '4e4f90fcfb', 'category': 'Электроника'} <class 'dict'>\n",
      "{'user_id': 'afea8d72fc', 'category': 'Электроника'} <class 'dict'>\n",
      "{'user_id': '373a6055fe', 'category': 'Бытовая техника'} <class 'dict'>\n"
     ]
    }
   ],
   "source": [
    "with open(r'files_for_study\\purchase_log.txt', 'r' , encoding=\"utf8\") as purchase:\n",
    "    i = 0\n",
    "    for line_p in purchase:\n",
    "        line_p = line_p.strip()        \n",
    "        dict_ = json.loads(line_p)\n",
    "        i += 1\n",
    "        if i > 5:\n",
    "            break\n",
    "        print(dict_, type(dict_))"
   ]
  },
  {
   "cell_type": "code",
   "execution_count": 108,
   "id": "5a29454e",
   "metadata": {
    "scrolled": true
   },
   "outputs": [
    {
     "name": "stdout",
     "output_type": "stream",
     "text": [
      "   a  b  c\n",
      "1  1  2  3\n",
      "2  4  5  6\n",
      "3  7  8  9\n"
     ]
    }
   ],
   "source": [
    "import pandas as pd\n",
    "import numpy as np\n",
    "\n",
    "values = np.array([[1,2,3],[4, 5, 6],[7,8,9]]) #<--- (3,3)\n",
    "columns=['a', 'b', 'c']\n",
    "index=['1','2','3']\n",
    "\n",
    "at = pd.DataFrame(values,index,columns)\n",
    "print(at)"
   ]
  },
  {
   "cell_type": "code",
   "execution_count": null,
   "id": "4bad783c",
   "metadata": {},
   "outputs": [],
   "source": []
  }
 ],
 "metadata": {
  "kernelspec": {
   "display_name": "Python 3 (ipykernel)",
   "language": "python",
   "name": "python3"
  },
  "language_info": {
   "codemirror_mode": {
    "name": "ipython",
    "version": 3
   },
   "file_extension": ".py",
   "mimetype": "text/x-python",
   "name": "python",
   "nbconvert_exporter": "python",
   "pygments_lexer": "ipython3",
   "version": "3.9.12"
  }
 },
 "nbformat": 4,
 "nbformat_minor": 5
}
