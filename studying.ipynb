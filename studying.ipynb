{
 "cells": [
  {
   "cell_type": "markdown",
   "id": "040a6e2b",
   "metadata": {},
   "source": [
    "# Тема 1"
   ]
  },
  {
   "cell_type": "markdown",
   "id": "f0d1e533",
   "metadata": {},
   "source": [
    "### Вычисления, арифметика"
   ]
  },
  {
   "cell_type": "code",
   "execution_count": 1,
   "id": "42dafb4c",
   "metadata": {},
   "outputs": [
    {
     "name": "stdout",
     "output_type": "stream",
     "text": [
      "1\n"
     ]
    }
   ],
   "source": [
    "print (2-1)"
   ]
  },
  {
   "cell_type": "markdown",
   "id": "33be4001",
   "metadata": {},
   "source": [
    "**Если результат один, то print писать необязательно, НО если у нас несколько результатов, то лучше писать print везде**"
   ]
  },
  {
   "cell_type": "code",
   "execution_count": 2,
   "id": "779d5316",
   "metadata": {},
   "outputs": [
    {
     "data": {
      "text/plain": [
       "1"
      ]
     },
     "execution_count": 2,
     "metadata": {},
     "output_type": "execute_result"
    }
   ],
   "source": [
    "2-1"
   ]
  },
  {
   "cell_type": "code",
   "execution_count": 3,
   "id": "f46093ff",
   "metadata": {},
   "outputs": [
    {
     "data": {
      "text/plain": [
       "1"
      ]
     },
     "execution_count": 3,
     "metadata": {},
     "output_type": "execute_result"
    }
   ],
   "source": [
    "4 % 3"
   ]
  },
  {
   "cell_type": "code",
   "execution_count": 4,
   "id": "02a63986",
   "metadata": {},
   "outputs": [
    {
     "data": {
      "text/plain": [
       "2.5"
      ]
     },
     "execution_count": 4,
     "metadata": {},
     "output_type": "execute_result"
    }
   ],
   "source": [
    "10 / 4"
   ]
  },
  {
   "cell_type": "code",
   "execution_count": null,
   "id": "8f4aa678",
   "metadata": {},
   "outputs": [],
   "source": [
    "5 - (3 + 2) * 6 # при помощи скобок мы чётко задаём порядок"
   ]
  },
  {
   "cell_type": "markdown",
   "id": "b19da0ae",
   "metadata": {},
   "source": [
    "### Переменные"
   ]
  },
  {
   "cell_type": "code",
   "execution_count": null,
   "id": "53230bd2",
   "metadata": {},
   "outputs": [],
   "source": [
    "# Переменная это объект, которому дано имя"
   ]
  },
  {
   "cell_type": "code",
   "execution_count": 5,
   "id": "fc2ebb19",
   "metadata": {},
   "outputs": [],
   "source": [
    "row_pp = 1 * 5"
   ]
  },
  {
   "cell_type": "code",
   "execution_count": 6,
   "id": "809baad3",
   "metadata": {},
   "outputs": [
    {
     "name": "stdout",
     "output_type": "stream",
     "text": [
      "ответ: 0.03333333333333333\n"
     ]
    }
   ],
   "source": [
    "a = 10 + 20\n",
    "b = a * 30\n",
    "c = a / b\n",
    "print ('ответ:' , c )"
   ]
  },
  {
   "cell_type": "code",
   "execution_count": 14,
   "id": "6f5f4c7b",
   "metadata": {},
   "outputs": [
    {
     "data": {
      "text/plain": [
       "900"
      ]
     },
     "execution_count": 14,
     "metadata": {},
     "output_type": "execute_result"
    }
   ],
   "source": [
    "b"
   ]
  },
  {
   "cell_type": "markdown",
   "id": "8394ea96",
   "metadata": {},
   "source": [
    "### Задача на призывника"
   ]
  },
  {
   "cell_type": "code",
   "execution_count": 16,
   "id": "ba1d73c4",
   "metadata": {},
   "outputs": [
    {
     "name": "stdout",
     "output_type": "stream",
     "text": [
      "army\n",
      "end of the programm\n"
     ]
    }
   ],
   "source": [
    "height = 190\n",
    "age = 21\n",
    "if height < 170 and age >= 18:\n",
    "    print ('tankist')\n",
    "elif height < 180 and age >= 18:\n",
    "    print ('flot')\n",
    "elif height > 200 and age >= 18:\n",
    "    print ('desant')\n",
    "else:\n",
    "    print ('army')\n",
    "print ('end of the programm')"
   ]
  },
  {
   "cell_type": "code",
   "execution_count": 23,
   "id": "d34b7fc6",
   "metadata": {},
   "outputs": [
    {
     "name": "stdout",
     "output_type": "stream",
     "text": [
      "Введите рост 205\n",
      "desant\n"
     ]
    }
   ],
   "source": [
    "if age >= 18:\n",
    "    user_input = int(input('Введите рост '))\n",
    "    if user_input < 170:\n",
    "        print ('tankist')\n",
    "    elif user_input < 180:\n",
    "        print ('flot')\n",
    "    elif user_input > 200:\n",
    "        print ('desant')\n",
    "    else:\n",
    "        print ('army')\n",
    "else:\n",
    "    print ('непризывной')"
   ]
  },
  {
   "cell_type": "markdown",
   "id": "e7c1256d",
   "metadata": {},
   "source": [
    "## Вебинар 1\n",
    "**Объявляя переменные в одной сроке, и задавая условия в другой, надо прогонять каждую по отдельности**"
   ]
  },
  {
   "cell_type": "code",
   "execution_count": 24,
   "id": "c92f21b5",
   "metadata": {
    "scrolled": false
   },
   "outputs": [
    {
     "name": "stdout",
     "output_type": "stream",
     "text": [
      "The Zen of Python, by Tim Peters\n",
      "\n",
      "Beautiful is better than ugly.\n",
      "Explicit is better than implicit.\n",
      "Simple is better than complex.\n",
      "Complex is better than complicated.\n",
      "Flat is better than nested.\n",
      "Sparse is better than dense.\n",
      "Readability counts.\n",
      "Special cases aren't special enough to break the rules.\n",
      "Although practicality beats purity.\n",
      "Errors should never pass silently.\n",
      "Unless explicitly silenced.\n",
      "In the face of ambiguity, refuse the temptation to guess.\n",
      "There should be one-- and preferably only one --obvious way to do it.\n",
      "Although that way may not be obvious at first unless you're Dutch.\n",
      "Now is better than never.\n",
      "Although never is often better than *right* now.\n",
      "If the implementation is hard to explain, it's a bad idea.\n",
      "If the implementation is easy to explain, it may be a good idea.\n",
      "Namespaces are one honking great idea -- let's do more of those!\n"
     ]
    }
   ],
   "source": [
    "import this"
   ]
  },
  {
   "cell_type": "markdown",
   "id": "fe3a6dce",
   "metadata": {},
   "source": [
    "### Краткая запись условий"
   ]
  },
  {
   "cell_type": "code",
   "execution_count": 26,
   "id": "d0a3d598",
   "metadata": {},
   "outputs": [
    {
     "data": {
      "text/plain": [
       "1"
      ]
     },
     "execution_count": 26,
     "metadata": {},
     "output_type": "execute_result"
    }
   ],
   "source": [
    "13 % 2"
   ]
  },
  {
   "cell_type": "code",
   "execution_count": 31,
   "id": "294e00f1",
   "metadata": {},
   "outputs": [
    {
     "name": "stdout",
     "output_type": "stream",
     "text": [
      "Впиши любое число54\n",
      "Число чёткое\n"
     ]
    }
   ],
   "source": [
    "# чётное число?\n",
    "put_num = int(input('Впиши любое число'))\n",
    "\n",
    "if put_num % 2 == 0:\n",
    "    print('Число чётное')\n",
    "else:\n",
    "    print('Число нечётное')"
   ]
  },
  {
   "cell_type": "markdown",
   "id": "10a7ccad",
   "metadata": {},
   "source": [
    "### Изменяемые и неизменяемые типы данных"
   ]
  },
  {
   "cell_type": "code",
   "execution_count": 34,
   "id": "50f04543",
   "metadata": {},
   "outputs": [
    {
     "data": {
      "text/plain": [
       "['Annet', 'James', 'John']"
      ]
     },
     "execution_count": 34,
     "metadata": {},
     "output_type": "execute_result"
    }
   ],
   "source": [
    "#чтобы задать список можно использовать []\n",
    "some_names = ['John', 'James', 'Annet']\n",
    "some_names.sort()\n",
    "some_names\n",
    "#строчки возвращают результат при их изменения, а "
   ]
  },
  {
   "cell_type": "markdown",
   "id": "02f99cf0",
   "metadata": {},
   "source": [
    "### Копия списка"
   ]
  },
  {
   "cell_type": "code",
   "execution_count": 35,
   "id": "07834633",
   "metadata": {},
   "outputs": [],
   "source": [
    "#попытавшись создать копию через \n",
    "copy_some_names = some_names\n",
    "# мы обнаружим, что это две переменная, НО id одинаковые -> изменения в одной приведут к изменнию в обеих"
   ]
  },
  {
   "cell_type": "code",
   "execution_count": 37,
   "id": "17a739cc",
   "metadata": {},
   "outputs": [],
   "source": [
    "# настоящая копия\n",
    "\n",
    "some_names = ['John', 'James', 'Annet']\n",
    "copy_some_names = some_names.copy()"
   ]
  },
  {
   "cell_type": "code",
   "execution_count": 38,
   "id": "8b56591c",
   "metadata": {},
   "outputs": [
    {
     "data": {
      "text/plain": [
       "False"
      ]
     },
     "execution_count": 38,
     "metadata": {},
     "output_type": "execute_result"
    }
   ],
   "source": [
    "id(some_names) == id(copy_some_names)"
   ]
  },
  {
   "cell_type": "code",
   "execution_count": 39,
   "id": "b1b0cec7",
   "metadata": {},
   "outputs": [],
   "source": [
    "# Формативароние чисел и строк. f\"{}.\""
   ]
  },
  {
   "cell_type": "markdown",
   "id": "43102dab",
   "metadata": {},
   "source": [
    "# Тема 2 - Типы данных и Циклы"
   ]
  },
  {
   "cell_type": "markdown",
   "id": "db473d45",
   "metadata": {},
   "source": [
    "### Введение в типы данных\n",
    "**Строки**"
   ]
  },
  {
   "cell_type": "code",
   "execution_count": 1,
   "id": "04e5712c",
   "metadata": {},
   "outputs": [
    {
     "data": {
      "text/plain": [
       "'12'"
      ]
     },
     "execution_count": 1,
     "metadata": {},
     "output_type": "execute_result"
    }
   ],
   "source": [
    "'1' + '2'"
   ]
  },
  {
   "cell_type": "code",
   "execution_count": 3,
   "id": "ff141528",
   "metadata": {},
   "outputs": [
    {
     "data": {
      "text/plain": [
       "3"
      ]
     },
     "execution_count": 3,
     "metadata": {},
     "output_type": "execute_result"
    }
   ],
   "source": [
    "1 + 2"
   ]
  },
  {
   "cell_type": "code",
   "execution_count": 4,
   "id": "72114367",
   "metadata": {},
   "outputs": [],
   "source": [
    "my_string = 'Hello World'"
   ]
  },
  {
   "cell_type": "code",
   "execution_count": 6,
   "id": "902388ae",
   "metadata": {},
   "outputs": [
    {
     "data": {
      "text/plain": [
       "'HELLO WORLD'"
      ]
     },
     "execution_count": 6,
     "metadata": {},
     "output_type": "execute_result"
    }
   ],
   "source": [
    "my_string.upper()"
   ]
  },
  {
   "cell_type": "code",
   "execution_count": 7,
   "id": "9c8d0b1d",
   "metadata": {},
   "outputs": [
    {
     "data": {
      "text/plain": [
       "'Goodbye World'"
      ]
     },
     "execution_count": 7,
     "metadata": {},
     "output_type": "execute_result"
    }
   ],
   "source": [
    "my_string.replace('Hello','Goodbye')"
   ]
  },
  {
   "cell_type": "code",
   "execution_count": 8,
   "id": "5f03ae50",
   "metadata": {},
   "outputs": [
    {
     "data": {
      "text/plain": [
       "11"
      ]
     },
     "execution_count": 8,
     "metadata": {},
     "output_type": "execute_result"
    }
   ],
   "source": [
    "len(my_string)"
   ]
  },
  {
   "cell_type": "markdown",
   "id": "c0db5de3",
   "metadata": {},
   "source": [
    "### Идексация и срезы"
   ]
  },
  {
   "cell_type": "code",
   "execution_count": 14,
   "id": "4612ea49",
   "metadata": {},
   "outputs": [],
   "source": [
    "my_string = 'Hello World'"
   ]
  },
  {
   "cell_type": "code",
   "execution_count": 17,
   "id": "bcd929c1",
   "metadata": {},
   "outputs": [
    {
     "data": {
      "text/plain": [
       "'l'"
      ]
     },
     "execution_count": 17,
     "metadata": {},
     "output_type": "execute_result"
    }
   ],
   "source": [
    "my_string[2]"
   ]
  },
  {
   "cell_type": "code",
   "execution_count": 18,
   "id": "259786ca",
   "metadata": {},
   "outputs": [
    {
     "data": {
      "text/plain": [
       "'d'"
      ]
     },
     "execution_count": 18,
     "metadata": {},
     "output_type": "execute_result"
    }
   ],
   "source": [
    "my_string[-1] # последнее значение"
   ]
  },
  {
   "cell_type": "code",
   "execution_count": 19,
   "id": "ddef5097",
   "metadata": {},
   "outputs": [
    {
     "data": {
      "text/plain": [
       "'Hello'"
      ]
     },
     "execution_count": 19,
     "metadata": {},
     "output_type": "execute_result"
    }
   ],
   "source": [
    "my_string[0:5] # крайнее значение не входит в выборку"
   ]
  },
  {
   "cell_type": "code",
   "execution_count": 20,
   "id": "77d1ed92",
   "metadata": {},
   "outputs": [
    {
     "data": {
      "text/plain": [
       "'HloW'"
      ]
     },
     "execution_count": 20,
     "metadata": {},
     "output_type": "execute_result"
    }
   ],
   "source": [
    "my_string[0:8:2]"
   ]
  },
  {
   "cell_type": "code",
   "execution_count": 21,
   "id": "5d852805",
   "metadata": {},
   "outputs": [
    {
     "data": {
      "text/plain": [
       "'World'"
      ]
     },
     "execution_count": 21,
     "metadata": {},
     "output_type": "execute_result"
    }
   ],
   "source": [
    "my_string[6:] #возврат всего после 6 го элемента"
   ]
  },
  {
   "cell_type": "code",
   "execution_count": 23,
   "id": "0e20f109",
   "metadata": {},
   "outputs": [
    {
     "data": {
      "text/plain": [
       "'Hello '"
      ]
     },
     "execution_count": 23,
     "metadata": {},
     "output_type": "execute_result"
    }
   ],
   "source": [
    "my_string[:6] # если не укзаать первое значение, то по-умолчанию с 0"
   ]
  },
  {
   "cell_type": "code",
   "execution_count": 25,
   "id": "37da24a2",
   "metadata": {},
   "outputs": [
    {
     "name": "stdout",
     "output_type": "stream",
     "text": [
      "find!\n"
     ]
    }
   ],
   "source": [
    "# Использование IN\n",
    "my_string = 'Hello World'\n",
    "target_str = 'World'\n",
    "\n",
    "if target_str in my_string:\n",
    "    print('find!')"
   ]
  },
  {
   "cell_type": "markdown",
   "id": "93a591bf",
   "metadata": {},
   "source": [
    "**f-строки**"
   ]
  },
  {
   "cell_type": "code",
   "execution_count": 26,
   "id": "c28dc091",
   "metadata": {},
   "outputs": [
    {
     "name": "stdout",
     "output_type": "stream",
     "text": [
      "Hello, i am Michael, and my last name is Kondratev\n"
     ]
    }
   ],
   "source": [
    "name = 'Michael'\n",
    "surname = 'Kondratev'\n",
    "print(f'Hello, i am {name}, and my last name is {surname}')"
   ]
  },
  {
   "cell_type": "markdown",
   "id": "f8de1ea1",
   "metadata": {},
   "source": [
    "### Списки - list"
   ]
  },
  {
   "cell_type": "code",
   "execution_count": 37,
   "id": "a331ea2f",
   "metadata": {},
   "outputs": [],
   "source": [
    "month_list = ['Jan', 'May', 'Feb']\n",
    "income_list = [130000, 150000, 110000]\n",
    "income_by_month = [['Jan', 130000], ['May', 150000], ['Feb', 110000],['Jun', 100000],['Jul', 110000],['Sep', 170000],['Oct', 110000] ]"
   ]
  },
  {
   "cell_type": "code",
   "execution_count": 30,
   "id": "07bb8030",
   "metadata": {},
   "outputs": [
    {
     "name": "stdout",
     "output_type": "stream",
     "text": [
      "130000\n"
     ]
    }
   ],
   "source": [
    "#Индексация элементов доступна и для Списков\n",
    "print(income_by_month[-3][1]) #получения элемента находящегося во вложенном списке"
   ]
  },
  {
   "cell_type": "code",
   "execution_count": 31,
   "id": "ef179e66",
   "metadata": {},
   "outputs": [
    {
     "name": "stdout",
     "output_type": "stream",
     "text": [
      "[['Jan', 131000], ['May', 150000], ['Feb', 110000]]\n"
     ]
    }
   ],
   "source": [
    "# изменения списков\n",
    "income_by_month [0][1] = 131000 #можно сразу указать несколько элементов с изменениями \n",
    "print(income_by_month)"
   ]
  },
  {
   "cell_type": "code",
   "execution_count": 32,
   "id": "1660d201",
   "metadata": {},
   "outputs": [],
   "source": [
    "# При сложении списков происходит Конкатинация. То есть к списку1 добавится список2 и получится список состоящий из 2х списков"
   ]
  },
  {
   "cell_type": "markdown",
   "id": "1ac1ecba",
   "metadata": {},
   "source": [
    "### Операции со списками"
   ]
  },
  {
   "cell_type": "code",
   "execution_count": 35,
   "id": "f65a4cab",
   "metadata": {},
   "outputs": [
    {
     "data": {
      "text/plain": [
       "1"
      ]
     },
     "execution_count": 35,
     "metadata": {},
     "output_type": "execute_result"
    }
   ],
   "source": [
    "# Распаков списков\n",
    "first, second, third, fourth = [1, 2, 3, 4]\n",
    "first"
   ]
  },
  {
   "cell_type": "code",
   "execution_count": 36,
   "id": "5d66a6b3",
   "metadata": {},
   "outputs": [
    {
     "data": {
      "text/plain": [
       "[2, 3]"
      ]
     },
     "execution_count": 36,
     "metadata": {},
     "output_type": "execute_result"
    }
   ],
   "source": [
    "first, *other, last = [1, 2, 3, 4] # получение первого и последнего значения в столбце\n",
    "other"
   ]
  },
  {
   "cell_type": "code",
   "execution_count": 42,
   "id": "50d3a1df",
   "metadata": {},
   "outputs": [
    {
     "data": {
      "text/plain": [
       "[['Jan', 130000],\n",
       " ['May', 150000],\n",
       " ['Feb', 110000],\n",
       " ['Jun', 100000],\n",
       " ['Jul', 110000],\n",
       " ['Sep', 170000],\n",
       " ['Oct', 110000]]"
      ]
     },
     "execution_count": 42,
     "metadata": {},
     "output_type": "execute_result"
    }
   ],
   "source": [
    "income_by_month = [['Jan', 130000], ['May', 150000], ['Feb', 110000],['Jun', 100000],['Jul', 110000],['Sep', 170000],['Oct', 110000] ]\n",
    "income_by_month"
   ]
  },
  {
   "cell_type": "code",
   "execution_count": 43,
   "id": "22bd5d29",
   "metadata": {},
   "outputs": [
    {
     "data": {
      "text/plain": [
       "[['Jan', 130000],\n",
       " ['May', 150000],\n",
       " ['Feb', 110000],\n",
       " ['Jun', 100000],\n",
       " ['Jul', 110000],\n",
       " ['Sep', 170000]]"
      ]
     },
     "execution_count": 43,
     "metadata": {},
     "output_type": "execute_result"
    }
   ],
   "source": [
    "del(income_by_month[-1])\n",
    "income_by_month"
   ]
  },
  {
   "cell_type": "code",
   "execution_count": 52,
   "id": "548c4fc6",
   "metadata": {},
   "outputs": [
    {
     "name": "stdout",
     "output_type": "stream",
     "text": [
      "['May', 'Feb']\n"
     ]
    }
   ],
   "source": [
    "month_list = ['Jan', 'May', 'Feb']\n",
    "month_list.remove('Jan')\n",
    "print(month_list)"
   ]
  },
  {
   "cell_type": "code",
   "execution_count": 49,
   "id": "fe2c6fb4",
   "metadata": {},
   "outputs": [],
   "source": [
    "# .append() добавляет элемент в конец списка\n",
    "# .insert( , ) добавляет элемент в поле по нужному индексу\n",
    "# .count() кол-во вхождений элемента в список\n",
    "# .index( , ) узнаём индекс элемента в списке - только первое вхождение\n",
    "# .reverse() обращает в обратном порядке\n",
    "# len, sum, max, min, \n",
    "# sorted, sorted( , reverse= True) - не меняют реальный порядок в списке, только "
   ]
  },
  {
   "cell_type": "code",
   "execution_count": 50,
   "id": "0d783a62",
   "metadata": {},
   "outputs": [
    {
     "data": {
      "text/plain": [
       "[110000, 130000, 150000]"
      ]
     },
     "execution_count": 50,
     "metadata": {},
     "output_type": "execute_result"
    }
   ],
   "source": [
    "sorted(income_list)"
   ]
  },
  {
   "cell_type": "code",
   "execution_count": 53,
   "id": "1e8ce43e",
   "metadata": {},
   "outputs": [
    {
     "data": {
      "text/plain": [
       "['Feb', 'May']"
      ]
     },
     "execution_count": 53,
     "metadata": {},
     "output_type": "execute_result"
    }
   ],
   "source": [
    "sorted(month_list)"
   ]
  },
  {
   "cell_type": "markdown",
   "id": "e171b31e",
   "metadata": {},
   "source": [
    "### Изменение списков"
   ]
  },
  {
   "cell_type": "code",
   "execution_count": 54,
   "id": "0e8fc327",
   "metadata": {},
   "outputs": [],
   "source": [
    "# Приравнивание одной переменной к другой не создаёт новую переменную. Одна ссылается на другую"
   ]
  },
  {
   "cell_type": "code",
   "execution_count": 56,
   "id": "b975beee",
   "metadata": {},
   "outputs": [],
   "source": [
    "# Чтобы создать КОПИЮ переменной, нужно испоьзовать copy\n",
    "import copy\n",
    "a = [1,2,3]\n",
    "b = copy.copy(a)"
   ]
  },
  {
   "cell_type": "code",
   "execution_count": 57,
   "id": "b011dd29",
   "metadata": {},
   "outputs": [
    {
     "data": {
      "text/plain": [
       "(1846173968960, 1846195774976)"
      ]
     },
     "execution_count": 57,
     "metadata": {},
     "output_type": "execute_result"
    }
   ],
   "source": [
    "id(a), id(b)"
   ]
  },
  {
   "cell_type": "code",
   "execution_count": 59,
   "id": "c3b1652b",
   "metadata": {},
   "outputs": [
    {
     "name": "stdout",
     "output_type": "stream",
     "text": [
      "a = [1, 2, 3]\n"
     ]
    }
   ],
   "source": [
    "print(f'a = {a}')"
   ]
  },
  {
   "cell_type": "markdown",
   "id": "14b42c00",
   "metadata": {},
   "source": [
    "### Списки и строки, кортежи"
   ]
  },
  {
   "cell_type": "code",
   "execution_count": 60,
   "id": "4d6a9766",
   "metadata": {},
   "outputs": [],
   "source": [
    "# .split(' разделитель ')"
   ]
  },
  {
   "cell_type": "code",
   "execution_count": 64,
   "id": "44581cc7",
   "metadata": {},
   "outputs": [
    {
     "data": {
      "text/plain": [
       "list"
      ]
     },
     "execution_count": 64,
     "metadata": {},
     "output_type": "execute_result"
    }
   ],
   "source": [
    "salary_tuple = (1000, 2000, 5000, 800)\n",
    "# type(salary_tuple)\n",
    "type(list(salary_tuple))"
   ]
  },
  {
   "cell_type": "code",
   "execution_count": null,
   "id": "1c0eaa0b",
   "metadata": {},
   "outputs": [],
   "source": [
    "# изменить элементв в кортеже НЕЛЬЗЯ"
   ]
  },
  {
   "cell_type": "code",
   "execution_count": 65,
   "id": "394e6d7b",
   "metadata": {},
   "outputs": [],
   "source": [
    "# функция zip() создаём Объект объединяющий два Списка, каждый Элемент которого будет представлять из себя Кортеж"
   ]
  },
  {
   "cell_type": "markdown",
   "id": "320ff2b4",
   "metadata": {},
   "source": [
    "### Циклы while и for"
   ]
  },
  {
   "cell_type": "code",
   "execution_count": null,
   "id": "53c9a977",
   "metadata": {},
   "outputs": [],
   "source": [
    "# https://netology.ru/profile/program/bhemft-pp-22-1/lessons/208321/lesson_items/1100472"
   ]
  },
  {
   "cell_type": "code",
   "execution_count": 66,
   "id": "fd1ebff5",
   "metadata": {},
   "outputs": [],
   "source": [
    "# Цикл While работает пока условия верное"
   ]
  },
  {
   "cell_type": "code",
   "execution_count": 67,
   "id": "a4e18c92",
   "metadata": {},
   "outputs": [],
   "source": [
    "# Цикл for выполняется для всех элементов списка"
   ]
  },
  {
   "cell_type": "code",
   "execution_count": 68,
   "id": "40e9fa0d",
   "metadata": {},
   "outputs": [],
   "source": [
    "# break - прервывает цикл\n",
    "# continue - позволяет сбрасывать значение, которое выдало ошибку, и переходить дальше по циклу\n",
    "# pass - позволяет просто пропустить ошибку"
   ]
  },
  {
   "cell_type": "markdown",
   "id": "9b6b1f4a",
   "metadata": {},
   "source": [
    "## Тема 2 - вебинар"
   ]
  },
  {
   "cell_type": "markdown",
   "id": "2c6f5ea0",
   "metadata": {},
   "source": [
    " При использовании fast-string можно также указывать форматирование через {object : форматирование}"
   ]
  },
  {
   "cell_type": "markdown",
   "id": "d04fc1c0",
   "metadata": {},
   "source": []
  },
  {
   "cell_type": "code",
   "execution_count": 72,
   "id": "bf2a0eaf",
   "metadata": {},
   "outputs": [
    {
     "data": {
      "text/plain": [
       "3"
      ]
     },
     "execution_count": 72,
     "metadata": {},
     "output_type": "execute_result"
    }
   ],
   "source": [
    "data = range(0, 30, 3)\n",
    "data[1]"
   ]
  },
  {
   "cell_type": "code",
   "execution_count": 74,
   "id": "8df621da",
   "metadata": {},
   "outputs": [
    {
     "name": "stdout",
     "output_type": "stream",
     "text": [
      "0 0\n",
      "1 3\n",
      "2 6\n",
      "3 9\n",
      "4 12\n",
      "5 15\n",
      "6 18\n",
      "7 21\n",
      "8 24\n",
      "9 27\n"
     ]
    }
   ],
   "source": [
    "# получение индекса элемента в списке\n",
    "for i in range(len(data)):\n",
    "    print(i, data[i])"
   ]
  },
  {
   "cell_type": "markdown",
   "id": "888b9bb8",
   "metadata": {},
   "source": [
    "### Игра \"Угадай число\""
   ]
  },
  {
   "cell_type": "code",
   "execution_count": 75,
   "id": "7c32df20",
   "metadata": {},
   "outputs": [],
   "source": [
    "import random"
   ]
  },
  {
   "cell_type": "code",
   "execution_count": 77,
   "id": "06d90f43",
   "metadata": {},
   "outputs": [],
   "source": [
    "guess_number = random.randint(0, 1000)"
   ]
  },
  {
   "cell_type": "markdown",
   "id": "64f2a6d6",
   "metadata": {},
   "source": [
    "! написать самостоятельно решение"
   ]
  },
  {
   "cell_type": "code",
   "execution_count": null,
   "id": "91bf0858",
   "metadata": {},
   "outputs": [],
   "source": []
  }
 ],
 "metadata": {
  "kernelspec": {
   "display_name": "Python 3 (ipykernel)",
   "language": "python",
   "name": "python3"
  },
  "language_info": {
   "codemirror_mode": {
    "name": "ipython",
    "version": 3
   },
   "file_extension": ".py",
   "mimetype": "text/x-python",
   "name": "python",
   "nbconvert_exporter": "python",
   "pygments_lexer": "ipython3",
   "version": "3.9.12"
  }
 },
 "nbformat": 4,
 "nbformat_minor": 5
}
