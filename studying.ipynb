{
 "cells": [
  {
   "cell_type": "markdown",
   "id": "040a6e2b",
   "metadata": {},
   "source": [
    "# Тема 1"
   ]
  },
  {
   "cell_type": "markdown",
   "id": "f0d1e533",
   "metadata": {},
   "source": [
    "### Вычисления, арифметика"
   ]
  },
  {
   "cell_type": "code",
   "execution_count": 1,
   "id": "42dafb4c",
   "metadata": {},
   "outputs": [
    {
     "name": "stdout",
     "output_type": "stream",
     "text": [
      "1\n"
     ]
    }
   ],
   "source": [
    "print (2-1)"
   ]
  },
  {
   "cell_type": "markdown",
   "id": "33be4001",
   "metadata": {},
   "source": [
    "**Если результат один, то print писать необязательно, НО если у нас несколько результатов, то лучше писать print везде**"
   ]
  },
  {
   "cell_type": "code",
   "execution_count": 2,
   "id": "779d5316",
   "metadata": {},
   "outputs": [
    {
     "data": {
      "text/plain": [
       "1"
      ]
     },
     "execution_count": 2,
     "metadata": {},
     "output_type": "execute_result"
    }
   ],
   "source": [
    "2-1"
   ]
  },
  {
   "cell_type": "code",
   "execution_count": 3,
   "id": "f46093ff",
   "metadata": {},
   "outputs": [
    {
     "data": {
      "text/plain": [
       "1"
      ]
     },
     "execution_count": 3,
     "metadata": {},
     "output_type": "execute_result"
    }
   ],
   "source": [
    "4 % 3"
   ]
  },
  {
   "cell_type": "code",
   "execution_count": 4,
   "id": "02a63986",
   "metadata": {},
   "outputs": [
    {
     "data": {
      "text/plain": [
       "2.5"
      ]
     },
     "execution_count": 4,
     "metadata": {},
     "output_type": "execute_result"
    }
   ],
   "source": [
    "10 / 4"
   ]
  },
  {
   "cell_type": "code",
   "execution_count": null,
   "id": "8f4aa678",
   "metadata": {},
   "outputs": [],
   "source": [
    "5 - (3 + 2) * 6 # при помощи скобок мы чётко задаём порядок"
   ]
  },
  {
   "cell_type": "markdown",
   "id": "b19da0ae",
   "metadata": {},
   "source": [
    "### Переменные"
   ]
  },
  {
   "cell_type": "code",
   "execution_count": null,
   "id": "53230bd2",
   "metadata": {},
   "outputs": [],
   "source": [
    "# Переменная это объект, которому дано имя"
   ]
  },
  {
   "cell_type": "code",
   "execution_count": 5,
   "id": "fc2ebb19",
   "metadata": {},
   "outputs": [],
   "source": [
    "row_pp = 1 * 5"
   ]
  },
  {
   "cell_type": "code",
   "execution_count": 6,
   "id": "809baad3",
   "metadata": {},
   "outputs": [
    {
     "name": "stdout",
     "output_type": "stream",
     "text": [
      "ответ: 0.03333333333333333\n"
     ]
    }
   ],
   "source": [
    "a = 10 + 20\n",
    "b = a * 30\n",
    "c = a / b\n",
    "print ('ответ:' , c )"
   ]
  },
  {
   "cell_type": "code",
   "execution_count": 14,
   "id": "6f5f4c7b",
   "metadata": {},
   "outputs": [
    {
     "data": {
      "text/plain": [
       "900"
      ]
     },
     "execution_count": 14,
     "metadata": {},
     "output_type": "execute_result"
    }
   ],
   "source": [
    "b"
   ]
  },
  {
   "cell_type": "markdown",
   "id": "8394ea96",
   "metadata": {},
   "source": [
    "### Задача на призывника"
   ]
  },
  {
   "cell_type": "code",
   "execution_count": 16,
   "id": "ba1d73c4",
   "metadata": {},
   "outputs": [
    {
     "name": "stdout",
     "output_type": "stream",
     "text": [
      "army\n",
      "end of the programm\n"
     ]
    }
   ],
   "source": [
    "height = 190\n",
    "age = 21\n",
    "if height < 170 and age >= 18:\n",
    "    print ('tankist')\n",
    "elif height < 180 and age >= 18:\n",
    "    print ('flot')\n",
    "elif height > 200 and age >= 18:\n",
    "    print ('desant')\n",
    "else:\n",
    "    print ('army')\n",
    "print ('end of the programm')"
   ]
  },
  {
   "cell_type": "code",
   "execution_count": 23,
   "id": "d34b7fc6",
   "metadata": {},
   "outputs": [
    {
     "name": "stdout",
     "output_type": "stream",
     "text": [
      "Введите рост 205\n",
      "desant\n"
     ]
    }
   ],
   "source": [
    "if age >= 18:\n",
    "    user_input = int(input('Введите рост '))\n",
    "    if user_input < 170:\n",
    "        print ('tankist')\n",
    "    elif user_input < 180:\n",
    "        print ('flot')\n",
    "    elif user_input > 200:\n",
    "        print ('desant')\n",
    "    else:\n",
    "        print ('army')\n",
    "else:\n",
    "    print ('непризывной')"
   ]
  },
  {
   "cell_type": "markdown",
   "id": "e7c1256d",
   "metadata": {},
   "source": [
    "## Вебинар 1\n",
    "**Объявляя переменные в одной сроке, и задавая условия в другой, надо прогонять каждую по отдельности**"
   ]
  },
  {
   "cell_type": "code",
   "execution_count": 24,
   "id": "c92f21b5",
   "metadata": {
    "scrolled": false
   },
   "outputs": [
    {
     "name": "stdout",
     "output_type": "stream",
     "text": [
      "The Zen of Python, by Tim Peters\n",
      "\n",
      "Beautiful is better than ugly.\n",
      "Explicit is better than implicit.\n",
      "Simple is better than complex.\n",
      "Complex is better than complicated.\n",
      "Flat is better than nested.\n",
      "Sparse is better than dense.\n",
      "Readability counts.\n",
      "Special cases aren't special enough to break the rules.\n",
      "Although practicality beats purity.\n",
      "Errors should never pass silently.\n",
      "Unless explicitly silenced.\n",
      "In the face of ambiguity, refuse the temptation to guess.\n",
      "There should be one-- and preferably only one --obvious way to do it.\n",
      "Although that way may not be obvious at first unless you're Dutch.\n",
      "Now is better than never.\n",
      "Although never is often better than *right* now.\n",
      "If the implementation is hard to explain, it's a bad idea.\n",
      "If the implementation is easy to explain, it may be a good idea.\n",
      "Namespaces are one honking great idea -- let's do more of those!\n"
     ]
    }
   ],
   "source": [
    "import this"
   ]
  },
  {
   "cell_type": "markdown",
   "id": "fe3a6dce",
   "metadata": {},
   "source": [
    "### Краткая запись условий"
   ]
  },
  {
   "cell_type": "code",
   "execution_count": 26,
   "id": "d0a3d598",
   "metadata": {},
   "outputs": [
    {
     "data": {
      "text/plain": [
       "1"
      ]
     },
     "execution_count": 26,
     "metadata": {},
     "output_type": "execute_result"
    }
   ],
   "source": [
    "13 % 2"
   ]
  },
  {
   "cell_type": "code",
   "execution_count": 31,
   "id": "294e00f1",
   "metadata": {},
   "outputs": [
    {
     "name": "stdout",
     "output_type": "stream",
     "text": [
      "Впиши любое число54\n",
      "Число чёткое\n"
     ]
    }
   ],
   "source": [
    "# чётное число?\n",
    "put_num = int(input('Впиши любое число'))\n",
    "\n",
    "if put_num % 2 == 0:\n",
    "    print('Число чётное')\n",
    "else:\n",
    "    print('Число нечётное')"
   ]
  },
  {
   "cell_type": "markdown",
   "id": "10a7ccad",
   "metadata": {},
   "source": [
    "### Изменяемые и неизменяемые типы данных"
   ]
  },
  {
   "cell_type": "code",
   "execution_count": 34,
   "id": "50f04543",
   "metadata": {},
   "outputs": [
    {
     "data": {
      "text/plain": [
       "['Annet', 'James', 'John']"
      ]
     },
     "execution_count": 34,
     "metadata": {},
     "output_type": "execute_result"
    }
   ],
   "source": [
    "#чтобы задать список можно использовать []\n",
    "some_names = ['John', 'James', 'Annet']\n",
    "some_names.sort()\n",
    "some_names\n",
    "#строчки возвращают результат при их изменения, а "
   ]
  },
  {
   "cell_type": "markdown",
   "id": "02f99cf0",
   "metadata": {},
   "source": [
    "### Копия списка"
   ]
  },
  {
   "cell_type": "code",
   "execution_count": 35,
   "id": "07834633",
   "metadata": {},
   "outputs": [],
   "source": [
    "#попытавшись создать копию через \n",
    "copy_some_names = some_names\n",
    "# мы обнаружим, что это две переменная, НО id одинаковые -> изменения в одной приведут к изменнию в обеих"
   ]
  },
  {
   "cell_type": "code",
   "execution_count": 37,
   "id": "17a739cc",
   "metadata": {},
   "outputs": [],
   "source": [
    "# настоящая копия\n",
    "\n",
    "some_names = ['John', 'James', 'Annet']\n",
    "copy_some_names = some_names.copy()"
   ]
  },
  {
   "cell_type": "code",
   "execution_count": 38,
   "id": "8b56591c",
   "metadata": {},
   "outputs": [
    {
     "data": {
      "text/plain": [
       "False"
      ]
     },
     "execution_count": 38,
     "metadata": {},
     "output_type": "execute_result"
    }
   ],
   "source": [
    "id(some_names) == id(copy_some_names)"
   ]
  },
  {
   "cell_type": "code",
   "execution_count": 39,
   "id": "b1b0cec7",
   "metadata": {},
   "outputs": [],
   "source": [
    "# Формативароние чисел и строк. f\"{}.\""
   ]
  },
  {
   "cell_type": "markdown",
   "id": "43102dab",
   "metadata": {},
   "source": [
    "# Тема 2 - Типы данных и Циклы"
   ]
  },
  {
   "cell_type": "markdown",
   "id": "db473d45",
   "metadata": {},
   "source": [
    "### Введение в типы данных\n",
    "**Строки**"
   ]
  },
  {
   "cell_type": "code",
   "execution_count": 1,
   "id": "04e5712c",
   "metadata": {},
   "outputs": [
    {
     "data": {
      "text/plain": [
       "'12'"
      ]
     },
     "execution_count": 1,
     "metadata": {},
     "output_type": "execute_result"
    }
   ],
   "source": [
    "'1' + '2'"
   ]
  },
  {
   "cell_type": "code",
   "execution_count": 3,
   "id": "ff141528",
   "metadata": {},
   "outputs": [
    {
     "data": {
      "text/plain": [
       "3"
      ]
     },
     "execution_count": 3,
     "metadata": {},
     "output_type": "execute_result"
    }
   ],
   "source": [
    "1 + 2"
   ]
  },
  {
   "cell_type": "code",
   "execution_count": 4,
   "id": "72114367",
   "metadata": {},
   "outputs": [],
   "source": [
    "my_string = 'Hello World'"
   ]
  },
  {
   "cell_type": "code",
   "execution_count": 6,
   "id": "902388ae",
   "metadata": {},
   "outputs": [
    {
     "data": {
      "text/plain": [
       "'HELLO WORLD'"
      ]
     },
     "execution_count": 6,
     "metadata": {},
     "output_type": "execute_result"
    }
   ],
   "source": [
    "my_string.upper()"
   ]
  },
  {
   "cell_type": "code",
   "execution_count": 7,
   "id": "9c8d0b1d",
   "metadata": {},
   "outputs": [
    {
     "data": {
      "text/plain": [
       "'Goodbye World'"
      ]
     },
     "execution_count": 7,
     "metadata": {},
     "output_type": "execute_result"
    }
   ],
   "source": [
    "my_string.replace('Hello','Goodbye')"
   ]
  },
  {
   "cell_type": "code",
   "execution_count": 8,
   "id": "5f03ae50",
   "metadata": {},
   "outputs": [
    {
     "data": {
      "text/plain": [
       "11"
      ]
     },
     "execution_count": 8,
     "metadata": {},
     "output_type": "execute_result"
    }
   ],
   "source": [
    "len(my_string)"
   ]
  },
  {
   "cell_type": "markdown",
   "id": "c0db5de3",
   "metadata": {},
   "source": [
    "### Идексация и срезы"
   ]
  },
  {
   "cell_type": "code",
   "execution_count": 14,
   "id": "4612ea49",
   "metadata": {},
   "outputs": [],
   "source": [
    "my_string = 'Hello World'"
   ]
  },
  {
   "cell_type": "code",
   "execution_count": 17,
   "id": "bcd929c1",
   "metadata": {},
   "outputs": [
    {
     "data": {
      "text/plain": [
       "'l'"
      ]
     },
     "execution_count": 17,
     "metadata": {},
     "output_type": "execute_result"
    }
   ],
   "source": [
    "my_string[2]"
   ]
  },
  {
   "cell_type": "code",
   "execution_count": 18,
   "id": "259786ca",
   "metadata": {},
   "outputs": [
    {
     "data": {
      "text/plain": [
       "'d'"
      ]
     },
     "execution_count": 18,
     "metadata": {},
     "output_type": "execute_result"
    }
   ],
   "source": [
    "my_string[-1] # последнее значение"
   ]
  },
  {
   "cell_type": "code",
   "execution_count": 19,
   "id": "ddef5097",
   "metadata": {},
   "outputs": [
    {
     "data": {
      "text/plain": [
       "'Hello'"
      ]
     },
     "execution_count": 19,
     "metadata": {},
     "output_type": "execute_result"
    }
   ],
   "source": [
    "my_string[0:5] # крайнее значение не входит в выборку"
   ]
  },
  {
   "cell_type": "code",
   "execution_count": 20,
   "id": "77d1ed92",
   "metadata": {},
   "outputs": [
    {
     "data": {
      "text/plain": [
       "'HloW'"
      ]
     },
     "execution_count": 20,
     "metadata": {},
     "output_type": "execute_result"
    }
   ],
   "source": [
    "my_string[0:8:2]"
   ]
  },
  {
   "cell_type": "code",
   "execution_count": 21,
   "id": "5d852805",
   "metadata": {},
   "outputs": [
    {
     "data": {
      "text/plain": [
       "'World'"
      ]
     },
     "execution_count": 21,
     "metadata": {},
     "output_type": "execute_result"
    }
   ],
   "source": [
    "my_string[6:] #возврат всего после 6 го элемента"
   ]
  },
  {
   "cell_type": "code",
   "execution_count": 23,
   "id": "0e20f109",
   "metadata": {},
   "outputs": [
    {
     "data": {
      "text/plain": [
       "'Hello '"
      ]
     },
     "execution_count": 23,
     "metadata": {},
     "output_type": "execute_result"
    }
   ],
   "source": [
    "my_string[:6] # если не укзаать первое значение, то по-умолчанию с 0"
   ]
  },
  {
   "cell_type": "code",
   "execution_count": 25,
   "id": "37da24a2",
   "metadata": {},
   "outputs": [
    {
     "name": "stdout",
     "output_type": "stream",
     "text": [
      "find!\n"
     ]
    }
   ],
   "source": [
    "# Использование IN\n",
    "my_string = 'Hello World'\n",
    "target_str = 'World'\n",
    "\n",
    "if target_str in my_string:\n",
    "    print('find!')"
   ]
  },
  {
   "cell_type": "markdown",
   "id": "93a591bf",
   "metadata": {},
   "source": [
    "**f-строки**"
   ]
  },
  {
   "cell_type": "code",
   "execution_count": 26,
   "id": "c28dc091",
   "metadata": {},
   "outputs": [
    {
     "name": "stdout",
     "output_type": "stream",
     "text": [
      "Hello, i am Michael, and my last name is Kondratev\n"
     ]
    }
   ],
   "source": [
    "name = 'Michael'\n",
    "surname = 'Kondratev'\n",
    "print(f'Hello, i am {name}, and my last name is {surname}')"
   ]
  },
  {
   "cell_type": "markdown",
   "id": "f8de1ea1",
   "metadata": {},
   "source": [
    "### Списки - list"
   ]
  },
  {
   "cell_type": "code",
   "execution_count": 37,
   "id": "a331ea2f",
   "metadata": {},
   "outputs": [],
   "source": [
    "month_list = ['Jan', 'May', 'Feb']\n",
    "income_list = [130000, 150000, 110000]\n",
    "income_by_month = [['Jan', 130000], ['May', 150000], ['Feb', 110000],['Jun', 100000],['Jul', 110000],['Sep', 170000],['Oct', 110000] ]"
   ]
  },
  {
   "cell_type": "code",
   "execution_count": 30,
   "id": "07bb8030",
   "metadata": {},
   "outputs": [
    {
     "name": "stdout",
     "output_type": "stream",
     "text": [
      "130000\n"
     ]
    }
   ],
   "source": [
    "#Индексация элементов доступна и для Списков\n",
    "print(income_by_month[-3][1]) #получения элемента находящегося во вложенном списке"
   ]
  },
  {
   "cell_type": "code",
   "execution_count": 31,
   "id": "ef179e66",
   "metadata": {},
   "outputs": [
    {
     "name": "stdout",
     "output_type": "stream",
     "text": [
      "[['Jan', 131000], ['May', 150000], ['Feb', 110000]]\n"
     ]
    }
   ],
   "source": [
    "# изменения списков\n",
    "income_by_month [0][1] = 131000 #можно сразу указать несколько элементов с изменениями \n",
    "print(income_by_month)"
   ]
  },
  {
   "cell_type": "code",
   "execution_count": 32,
   "id": "1660d201",
   "metadata": {},
   "outputs": [],
   "source": [
    "# При сложении списков происходит Конкатинация. То есть к списку1 добавится список2 и получится список состоящий из 2х списков"
   ]
  },
  {
   "cell_type": "markdown",
   "id": "1ac1ecba",
   "metadata": {},
   "source": [
    "### Операции со списками"
   ]
  },
  {
   "cell_type": "code",
   "execution_count": 35,
   "id": "f65a4cab",
   "metadata": {},
   "outputs": [
    {
     "data": {
      "text/plain": [
       "1"
      ]
     },
     "execution_count": 35,
     "metadata": {},
     "output_type": "execute_result"
    }
   ],
   "source": [
    "# Распаков списков\n",
    "first, second, third, fourth = [1, 2, 3, 4]\n",
    "first"
   ]
  },
  {
   "cell_type": "code",
   "execution_count": 36,
   "id": "5d66a6b3",
   "metadata": {},
   "outputs": [
    {
     "data": {
      "text/plain": [
       "[2, 3]"
      ]
     },
     "execution_count": 36,
     "metadata": {},
     "output_type": "execute_result"
    }
   ],
   "source": [
    "first, *other, last = [1, 2, 3, 4] # получение первого и последнего значения в столбце\n",
    "other"
   ]
  },
  {
   "cell_type": "code",
   "execution_count": 42,
   "id": "50d3a1df",
   "metadata": {},
   "outputs": [
    {
     "data": {
      "text/plain": [
       "[['Jan', 130000],\n",
       " ['May', 150000],\n",
       " ['Feb', 110000],\n",
       " ['Jun', 100000],\n",
       " ['Jul', 110000],\n",
       " ['Sep', 170000],\n",
       " ['Oct', 110000]]"
      ]
     },
     "execution_count": 42,
     "metadata": {},
     "output_type": "execute_result"
    }
   ],
   "source": [
    "income_by_month = [['Jan', 130000], ['May', 150000], ['Feb', 110000],['Jun', 100000],['Jul', 110000],['Sep', 170000],['Oct', 110000] ]\n",
    "income_by_month"
   ]
  },
  {
   "cell_type": "code",
   "execution_count": 43,
   "id": "22bd5d29",
   "metadata": {},
   "outputs": [
    {
     "data": {
      "text/plain": [
       "[['Jan', 130000],\n",
       " ['May', 150000],\n",
       " ['Feb', 110000],\n",
       " ['Jun', 100000],\n",
       " ['Jul', 110000],\n",
       " ['Sep', 170000]]"
      ]
     },
     "execution_count": 43,
     "metadata": {},
     "output_type": "execute_result"
    }
   ],
   "source": [
    "del(income_by_month[-1])\n",
    "income_by_month"
   ]
  },
  {
   "cell_type": "code",
   "execution_count": 52,
   "id": "548c4fc6",
   "metadata": {},
   "outputs": [
    {
     "name": "stdout",
     "output_type": "stream",
     "text": [
      "['May', 'Feb']\n"
     ]
    }
   ],
   "source": [
    "month_list = ['Jan', 'May', 'Feb']\n",
    "month_list.remove('Jan')\n",
    "print(month_list)"
   ]
  },
  {
   "cell_type": "code",
   "execution_count": 49,
   "id": "fe2c6fb4",
   "metadata": {},
   "outputs": [],
   "source": [
    "# .append() добавляет элемент в конец списка\n",
    "# .insert( , ) добавляет элемент в поле по нужному индексу\n",
    "# .count() кол-во вхождений элемента в список\n",
    "# .index( , ) узнаём индекс элемента в списке - только первое вхождение\n",
    "# .reverse() обращает в обратном порядке\n",
    "# len, sum, max, min, \n",
    "# sorted, sorted( , reverse= True) - не меняют реальный порядок в списке, только "
   ]
  },
  {
   "cell_type": "code",
   "execution_count": 50,
   "id": "0d783a62",
   "metadata": {},
   "outputs": [
    {
     "data": {
      "text/plain": [
       "[110000, 130000, 150000]"
      ]
     },
     "execution_count": 50,
     "metadata": {},
     "output_type": "execute_result"
    }
   ],
   "source": [
    "sorted(income_list)"
   ]
  },
  {
   "cell_type": "code",
   "execution_count": 53,
   "id": "1e8ce43e",
   "metadata": {},
   "outputs": [
    {
     "data": {
      "text/plain": [
       "['Feb', 'May']"
      ]
     },
     "execution_count": 53,
     "metadata": {},
     "output_type": "execute_result"
    }
   ],
   "source": [
    "sorted(month_list)"
   ]
  },
  {
   "cell_type": "markdown",
   "id": "e171b31e",
   "metadata": {},
   "source": [
    "### Изменение списков"
   ]
  },
  {
   "cell_type": "code",
   "execution_count": 54,
   "id": "0e8fc327",
   "metadata": {},
   "outputs": [],
   "source": [
    "# Приравнивание одной переменной к другой не создаёт новую переменную. Одна ссылается на другую"
   ]
  },
  {
   "cell_type": "code",
   "execution_count": 56,
   "id": "b975beee",
   "metadata": {},
   "outputs": [],
   "source": [
    "# Чтобы создать КОПИЮ переменной, нужно испоьзовать copy\n",
    "import copy\n",
    "a = [1,2,3]\n",
    "b = copy.copy(a)"
   ]
  },
  {
   "cell_type": "code",
   "execution_count": 57,
   "id": "b011dd29",
   "metadata": {},
   "outputs": [
    {
     "data": {
      "text/plain": [
       "(1846173968960, 1846195774976)"
      ]
     },
     "execution_count": 57,
     "metadata": {},
     "output_type": "execute_result"
    }
   ],
   "source": [
    "id(a), id(b)"
   ]
  },
  {
   "cell_type": "code",
   "execution_count": 59,
   "id": "c3b1652b",
   "metadata": {},
   "outputs": [
    {
     "name": "stdout",
     "output_type": "stream",
     "text": [
      "a = [1, 2, 3]\n"
     ]
    }
   ],
   "source": [
    "print(f'a = {a}')"
   ]
  },
  {
   "cell_type": "markdown",
   "id": "14b42c00",
   "metadata": {},
   "source": [
    "### Списки и строки, кортежи"
   ]
  },
  {
   "cell_type": "code",
   "execution_count": 60,
   "id": "4d6a9766",
   "metadata": {},
   "outputs": [],
   "source": [
    "# .split(' разделитель ')"
   ]
  },
  {
   "cell_type": "code",
   "execution_count": 64,
   "id": "44581cc7",
   "metadata": {},
   "outputs": [
    {
     "data": {
      "text/plain": [
       "list"
      ]
     },
     "execution_count": 64,
     "metadata": {},
     "output_type": "execute_result"
    }
   ],
   "source": [
    "salary_tuple = (1000, 2000, 5000, 800)\n",
    "# type(salary_tuple)\n",
    "type(list(salary_tuple))"
   ]
  },
  {
   "cell_type": "code",
   "execution_count": null,
   "id": "1c0eaa0b",
   "metadata": {},
   "outputs": [],
   "source": [
    "# изменить элементв в кортеже НЕЛЬЗЯ"
   ]
  },
  {
   "cell_type": "code",
   "execution_count": 65,
   "id": "394e6d7b",
   "metadata": {},
   "outputs": [],
   "source": [
    "# функция zip() создаём Объект объединяющий два Списка, каждый Элемент которого будет представлять из себя Кортеж"
   ]
  },
  {
   "cell_type": "markdown",
   "id": "320ff2b4",
   "metadata": {},
   "source": [
    "### Циклы while и for"
   ]
  },
  {
   "cell_type": "code",
   "execution_count": null,
   "id": "53c9a977",
   "metadata": {},
   "outputs": [],
   "source": [
    "# https://netology.ru/profile/program/bhemft-pp-22-1/lessons/208321/lesson_items/1100472"
   ]
  },
  {
   "cell_type": "code",
   "execution_count": 66,
   "id": "fd1ebff5",
   "metadata": {},
   "outputs": [],
   "source": [
    "# Цикл While работает пока условия верное"
   ]
  },
  {
   "cell_type": "code",
   "execution_count": 67,
   "id": "a4e18c92",
   "metadata": {},
   "outputs": [],
   "source": [
    "# Цикл for выполняется для всех элементов списка"
   ]
  },
  {
   "cell_type": "code",
   "execution_count": 68,
   "id": "40e9fa0d",
   "metadata": {},
   "outputs": [],
   "source": [
    "# break - прервывает цикл\n",
    "# continue - позволяет сбрасывать значение, которое выдало ошибку, и переходить дальше по циклу\n",
    "# pass - позволяет просто пропустить ошибку"
   ]
  },
  {
   "cell_type": "markdown",
   "id": "9b6b1f4a",
   "metadata": {},
   "source": [
    "## Тема 2 - вебинар"
   ]
  },
  {
   "cell_type": "markdown",
   "id": "2c6f5ea0",
   "metadata": {},
   "source": [
    " При использовании fast-string можно также указывать форматирование через {object : форматирование}"
   ]
  },
  {
   "cell_type": "markdown",
   "id": "d04fc1c0",
   "metadata": {},
   "source": []
  },
  {
   "cell_type": "code",
   "execution_count": 72,
   "id": "bf2a0eaf",
   "metadata": {},
   "outputs": [
    {
     "data": {
      "text/plain": [
       "3"
      ]
     },
     "execution_count": 72,
     "metadata": {},
     "output_type": "execute_result"
    }
   ],
   "source": [
    "data = range(0, 30, 3)\n",
    "data[1]"
   ]
  },
  {
   "cell_type": "code",
   "execution_count": 74,
   "id": "8df621da",
   "metadata": {},
   "outputs": [
    {
     "name": "stdout",
     "output_type": "stream",
     "text": [
      "0 0\n",
      "1 3\n",
      "2 6\n",
      "3 9\n",
      "4 12\n",
      "5 15\n",
      "6 18\n",
      "7 21\n",
      "8 24\n",
      "9 27\n"
     ]
    }
   ],
   "source": [
    "# получение индекса элемента в списке\n",
    "for i in range(len(data)):\n",
    "    print(i, data[i])"
   ]
  },
  {
   "cell_type": "markdown",
   "id": "888b9bb8",
   "metadata": {},
   "source": [
    "### Игра \"Угадай число\""
   ]
  },
  {
   "cell_type": "code",
   "execution_count": 75,
   "id": "7c32df20",
   "metadata": {},
   "outputs": [],
   "source": [
    "import random"
   ]
  },
  {
   "cell_type": "code",
   "execution_count": 77,
   "id": "06d90f43",
   "metadata": {},
   "outputs": [],
   "source": [
    "guess_number = random.randint(0, 1000)"
   ]
  },
  {
   "cell_type": "markdown",
   "id": "64f2a6d6",
   "metadata": {},
   "source": [
    "! написать самостоятельно решение"
   ]
  },
  {
   "cell_type": "markdown",
   "id": "781f49cd",
   "metadata": {},
   "source": [
    "## Множества SETS\n",
    "Множества позволяют получать список из уникальных значений\n",
    "Множества неупорядоченные - мы не можем сказать какой элемент стоит на каком месте\n",
    "Скорость поиска по множествам не различается в зависимости от размера эелментов в нём"
   ]
  },
  {
   "cell_type": "markdown",
   "id": "ca3eb14c",
   "metadata": {},
   "source": [
    "функция set([]) позволяте получить уникальные значения из списка]\n",
    "методы \n",
    "\n",
    ".intersection позволяет получить пересечение множеств\n",
    "\n",
    ".difference позволяет получить разницу между списками, элементы которые есть в одном множестве, но не в другом.\n"
   ]
  },
  {
   "cell_type": "code",
   "execution_count": 1,
   "id": "d908aabc",
   "metadata": {},
   "outputs": [
    {
     "name": "stdout",
     "output_type": "stream",
     "text": [
      "[0, 1, 2, 3, 4, 0]\n",
      "{0, 1, 2, 3, 4}\n"
     ]
    }
   ],
   "source": [
    "print([0, 1, 2, 3, 4, 0])\n",
    "print(set([0, 1, 2, 3, 4, 0]))"
   ]
  },
  {
   "cell_type": "code",
   "execution_count": 7,
   "id": "20ae2369",
   "metadata": {},
   "outputs": [
    {
     "name": "stdout",
     "output_type": "stream",
     "text": [
      "{785}\n"
     ]
    }
   ],
   "source": [
    "first_list = set([0, 1, 2, 3, 4, 0, 785])\n",
    "second_list = [0, 1, 2, 3, 4, 9123412]\n",
    "\n",
    "print(first_list.difference(second_list))"
   ]
  },
  {
   "cell_type": "markdown",
   "id": "0428f217",
   "metadata": {},
   "source": [
    "## Dictionaries\n",
    "Неупорядоченные коллекции произвольных объектов с доступом по ключу"
   ]
  },
  {
   "cell_type": "markdown",
   "id": "68fe4e3c",
   "metadata": {},
   "source": [
    "ключами словаря могут быть\n",
    "strings, booleans, integers, floats\n",
    "\n",
    "my_dict[key] позволяет получить любое значение из словаря"
   ]
  },
  {
   "cell_type": "code",
   "execution_count": 17,
   "id": "3c93cdb8",
   "metadata": {},
   "outputs": [
    {
     "name": "stdout",
     "output_type": "stream",
     "text": [
      "{'Colorado': 'Rockies', 'Boston': 'Red Sox', 'Minnesota': 'Twins', 'Milwaukee': 'Brewers', 'Seattle': 'Mariners'}\n"
     ]
    }
   ],
   "source": [
    "# словарь задаётся\n",
    "MLB_team = {\n",
    "     'Colorado' : 'Rockies',\n",
    "     'Boston'   : 'Red Sox',\n",
    "     'Minnesota': 'Twins',\n",
    "     'Milwaukee': 'Brewers',\n",
    "     'Seattle'  : 'Mariners'\n",
    " }\n",
    "print(MLB_team)"
   ]
  },
  {
   "cell_type": "code",
   "execution_count": 18,
   "id": "a7cf1fb9",
   "metadata": {},
   "outputs": [
    {
     "data": {
      "text/plain": [
       "'Red Sox'"
      ]
     },
     "execution_count": 18,
     "metadata": {},
     "output_type": "execute_result"
    }
   ],
   "source": [
    "MLB_team['Boston'] # обращаемся к элементам словаря по ключу"
   ]
  },
  {
   "cell_type": "code",
   "execution_count": 19,
   "id": "df5b46ff",
   "metadata": {},
   "outputs": [
    {
     "name": "stdout",
     "output_type": "stream",
     "text": [
      "{'Colorado': 'Rockies', 'Boston': 'Red Sox', 'Minnesota': 'Twins', 'Milwaukee': 'Brewers'}\n"
     ]
    }
   ],
   "source": [
    "del(MLB_team['Seattle'])\n",
    "print(MLB_team)"
   ]
  },
  {
   "cell_type": "code",
   "execution_count": 22,
   "id": "54854acf",
   "metadata": {
    "scrolled": true
   },
   "outputs": [
    {
     "name": "stdout",
     "output_type": "stream",
     "text": [
      "{'Colorado': 'Rockies', 'Boston': 'Red Sox', 'Minnesota': 'Twins', 'Milwaukee': 'Brewers', 'Saint-P': 'Zenit'}\n"
     ]
    }
   ],
   "source": [
    "# добавление ключа в словарь, также можно заменить значение ключа\n",
    "MLB_team['Saint-P'] = 'Zenit'\n",
    "print(MLB_team)"
   ]
  },
  {
   "cell_type": "code",
   "execution_count": 24,
   "id": "2b9339e4",
   "metadata": {},
   "outputs": [
    {
     "name": "stdout",
     "output_type": "stream",
     "text": [
      "Not found\n"
     ]
    }
   ],
   "source": [
    "# для избежания ошибки при обращении к ключу можно использовать метод .get\n",
    "print(MLB_team.get('Moscow', 'Not found'))"
   ]
  },
  {
   "cell_type": "markdown",
   "id": "b401efa8",
   "metadata": {},
   "source": [
    "mi_dict.setdefault('', ...) позволяет избежать ошибки при изменении значения в словаре, если вдруг обратились к несуществующему ключу\n",
    "\n",
    ".keys - возвращает ключи из словаря\n",
    ".values - возвращает значения из словаря\n",
    ".items  - Возвращает список из кортежей"
   ]
  },
  {
   "cell_type": "code",
   "execution_count": 27,
   "id": "62a2a9fc",
   "metadata": {},
   "outputs": [
    {
     "data": {
      "text/plain": [
       "{'Misha': 1000, 'Sasha': 1500, 'Oleg': 12000}"
      ]
     },
     "execution_count": 27,
     "metadata": {},
     "output_type": "execute_result"
    }
   ],
   "source": [
    "name = ['Misha', 'Sasha', 'Oleg']\n",
    "salary = [1000, 1500, 12000]\n",
    "\n",
    "dict(zip(name, salary)) # возвращает словарь созданный из пары списков"
   ]
  },
  {
   "cell_type": "markdown",
   "id": "75d49e8a",
   "metadata": {},
   "source": [
    "# Topic 4\n",
    "## Функции"
   ]
  },
  {
   "cell_type": "markdown",
   "id": "6014bba0",
   "metadata": {},
   "source": [
    "def square(number):\n",
    "    result = number**2\n",
    "    return result\n",
    "\n",
    "**def** объявляет функцию, **square** - имя функции, **number** - параметр функции[optional], всё прочее - тело функции, **return** возвращает значение из функции автоматически, останавливая работу функции [optional]\n",
    "\n",
    "**help()** позволяет задать подсказки к тому, как работает функция"
   ]
  },
  {
   "cell_type": "code",
   "execution_count": 12,
   "id": "2e8b95da",
   "metadata": {},
   "outputs": [
    {
     "name": "stdout",
     "output_type": "stream",
     "text": [
      "100\n",
      "Help on function square in module __main__:\n",
      "\n",
      "square(number)\n",
      "    this is my function\n",
      "\n"
     ]
    }
   ],
   "source": [
    "def square(number):\n",
    "    \"\"\"\n",
    "    this is my function\n",
    "    \"\"\"\n",
    "    result = number ** 2\n",
    "    return result\n",
    "\n",
    "print(square(number=10))\n",
    "# print(square(10))\n",
    "# ?square ИЛИ help(square)  -вызывает описание функции\n",
    "help(square)"
   ]
  },
  {
   "cell_type": "markdown",
   "id": "1dea8bfd",
   "metadata": {},
   "source": [
    "def power(number, number_2=2):\n",
    "\n",
    "Можно задать параметр по умолчанию, который будет применяться, если аргумент не указывается\n",
    "\n",
    "Функция может ничего не возвращать, если мы не укажем оператор **return**"
   ]
  },
  {
   "cell_type": "markdown",
   "id": "27e7e599",
   "metadata": {},
   "source": [
    "## Области видимости\n",
    "**Global scope И Local scope**\n",
    "\n",
    "global - переменная доступна вне функции (ОСТОРОЖНО)\n",
    "\n",
    "local - переменная доступна внутри функции. Если используемая переменная не задана внутри функции, то будет использована переменная объявленная в global scope"
   ]
  },
  {
   "cell_type": "code",
   "execution_count": 17,
   "id": "4f7fe9c1",
   "metadata": {},
   "outputs": [
    {
     "name": "stdout",
     "output_type": "stream",
     "text": [
      "Hello, Oleg\n",
      "Oleg\n"
     ]
    }
   ],
   "source": [
    "name = 'James'\n",
    "def say_hi():\n",
    "    global name  # ЕСЛИ необходимо, то можно внутри функции создать глобальную переменную\n",
    "    name = 'Oleg'\n",
    "    print('Hello, ' + name)\n",
    "\n",
    "say_hi()\n",
    "\n",
    "print(name)"
   ]
  },
  {
   "cell_type": "markdown",
   "id": "e6a6bdba",
   "metadata": {},
   "source": [
    "### lambda-функции"
   ]
  },
  {
   "cell_type": "code",
   "execution_count": 23,
   "id": "fa74cd40",
   "metadata": {},
   "outputs": [
    {
     "data": {
      "text/plain": [
       "15"
      ]
     },
     "execution_count": 23,
     "metadata": {},
     "output_type": "execute_result"
    }
   ],
   "source": [
    "func = lambda x, y: x + y\n",
    "\n",
    "func(5, 10)"
   ]
  },
  {
   "cell_type": "code",
   "execution_count": 27,
   "id": "49a8b11c",
   "metadata": {},
   "outputs": [],
   "source": [
    "nums = [1, 2, 3, 4, 5, 6, 7]"
   ]
  },
  {
   "cell_type": "code",
   "execution_count": 33,
   "id": "f42660a5",
   "metadata": {},
   "outputs": [],
   "source": [
    "odd_even_numbers = lambda x: 'even' if x % 2 == 0 else 'odd'"
   ]
  },
  {
   "cell_type": "code",
   "execution_count": 36,
   "id": "0ddc8d87",
   "metadata": {
    "scrolled": true
   },
   "outputs": [
    {
     "name": "stdout",
     "output_type": "stream",
     "text": [
      "odd\n",
      "even\n",
      "odd\n",
      "even\n",
      "odd\n",
      "even\n",
      "odd\n"
     ]
    }
   ],
   "source": [
    "for num in nums:\n",
    "    print(odd_even_numbers(num))"
   ]
  },
  {
   "cell_type": "code",
   "execution_count": 38,
   "id": "cf742cf4",
   "metadata": {},
   "outputs": [
    {
     "data": {
      "text/plain": [
       "['odd', 'even', 'odd', 'even', 'odd', 'even', 'odd']"
      ]
     },
     "execution_count": 38,
     "metadata": {},
     "output_type": "execute_result"
    }
   ],
   "source": [
    "# функция map\n",
    "list(map(odd_even_numbers, nums))"
   ]
  },
  {
   "cell_type": "code",
   "execution_count": 39,
   "id": "4eae1960",
   "metadata": {},
   "outputs": [
    {
     "data": {
      "text/plain": [
       "['odd', 'even', 'odd', 'even', 'odd', 'even', 'odd']"
      ]
     },
     "execution_count": 39,
     "metadata": {},
     "output_type": "execute_result"
    }
   ],
   "source": [
    "# LIST COMPREHENSION\n",
    "[odd_even_numbers(num) for num in nums]"
   ]
  },
  {
   "cell_type": "markdown",
   "id": "61b120f9",
   "metadata": {},
   "source": [
    "## Кол-во аргументов в функции"
   ]
  },
  {
   "cell_type": "markdown",
   "id": "4610d304",
   "metadata": {},
   "source": [
    "### Советы от ДИМЫ"
   ]
  },
  {
   "cell_type": "markdown",
   "id": "74014db2",
   "metadata": {},
   "source": [
    "print(x := peka()) \n",
    "\n",
    "**:=** позволяет необъявляя переменную заранее использовать её"
   ]
  },
  {
   "cell_type": "code",
   "execution_count": 1,
   "id": "a1c09175",
   "metadata": {},
   "outputs": [],
   "source": [
    "x = [1, 2, 3] # list\n",
    "y = {1, 2, 3} # set\n",
    "z = {1: 'a', 2: 'b'} #dict"
   ]
  },
  {
   "cell_type": "markdown",
   "id": "bc1c9a58",
   "metadata": {},
   "source": [
    "try:\n",
    "\n",
    "response:\n",
    "\n",
    "позволяют улавливать ошибки и вызывать нужное в случае их возникновения"
   ]
  },
  {
   "cell_type": "markdown",
   "id": "f38f249f",
   "metadata": {},
   "source": [
    "### Args and kwargs\n",
    "**Используются, если мы заранее не знаем кол-во аргументов, которое нужно будет принять функции**\n",
    "\n",
    "Особенно полезны, когда мы работаем с БД, где есть большое кол-во переменных"
   ]
  },
  {
   "cell_type": "code",
   "execution_count": 17,
   "id": "71d8b2b2",
   "metadata": {},
   "outputs": [],
   "source": [
    "# api_requset(1, 2, 3)\n",
    "# api_request(*params) - помещает в функцию располагая элементы списка подряд. Работает, когда мы точно знаем порядок\n",
    "\n",
    "# api_request(report=2, date=1, output=3)\n",
    "# api_request(**kwargs) - Передаём параметры и Именованными значениями. Позволяет возвращать словарь. "
   ]
  },
  {
   "cell_type": "code",
   "execution_count": 18,
   "id": "de3ad51c",
   "metadata": {},
   "outputs": [],
   "source": [
    "def report(**params):\n",
    "    print(params)"
   ]
  },
  {
   "cell_type": "code",
   "execution_count": null,
   "id": "5c6b4695",
   "metadata": {},
   "outputs": [],
   "source": [
    "report(date1='2022-09-11', date2='2022-09-18')"
   ]
  },
  {
   "cell_type": "markdown",
   "id": "8620b63f",
   "metadata": {},
   "source": [
    "Также посмотрели, как сократить код за счёт его разделения на отдельные функции"
   ]
  },
  {
   "cell_type": "markdown",
   "id": "3d825978",
   "metadata": {},
   "source": [
    "## Topic 4 Webinar"
   ]
  },
  {
   "cell_type": "markdown",
   "id": "71397e94",
   "metadata": {},
   "source": [
    "**Является ли слово палиндромом?**"
   ]
  },
  {
   "cell_type": "code",
   "execution_count": 13,
   "id": "692f5b4c",
   "metadata": {},
   "outputs": [],
   "source": [
    "def is_palindrom(word): #snake_case\n",
    "    # return word.lower() == word.lower()[::-1] альтернативный вариант решения\n",
    "    \n",
    "    word_lower = word.lower()\n",
    "    reversed_word = word_lower[::-1]\n",
    "    \n",
    "    # вариант 1\n",
    "    if reversed_word == word_lower:\n",
    "        return True # return завершает работу функции\n",
    "    else:\n",
    "        return False # Используя return мы даём себе возможность использовать результат дальше. В случае с print() такой возможности не будет\n",
    "    \n",
    "    # вариант 2\n",
    "#    return word_lower == reversed_word"
   ]
  },
  {
   "cell_type": "code",
   "execution_count": 15,
   "id": "7265f6b8",
   "metadata": {},
   "outputs": [
    {
     "name": "stdout",
     "output_type": "stream",
     "text": [
      "True\n"
     ]
    }
   ],
   "source": [
    "result = is_palindrom('радар')\n",
    "print(result)"
   ]
  },
  {
   "cell_type": "markdown",
   "id": "56be56b6",
   "metadata": {},
   "source": [
    "### map генератор\n",
    "Позволяет сэкономить ресурсы. Работает так: замопоминает что нужно сделать и как, при этом не забивая оперативную память. Обрабатывает какждый элемент по-отдельности."
   ]
  },
  {
   "cell_type": "code",
   "execution_count": 20,
   "id": "bf18caaf",
   "metadata": {},
   "outputs": [
    {
     "ename": "SyntaxError",
     "evalue": "invalid syntax (2464671138.py, line 3)",
     "output_type": "error",
     "traceback": [
      "\u001b[1;36m  Input \u001b[1;32mIn [20]\u001b[1;36m\u001b[0m\n\u001b[1;33m    while (a := int(input()) != 5:\u001b[0m\n\u001b[1;37m                                 ^\u001b[0m\n\u001b[1;31mSyntaxError\u001b[0m\u001b[1;31m:\u001b[0m invalid syntax\n"
     ]
    }
   ],
   "source": []
  },
  {
   "cell_type": "markdown",
   "id": "51f1f576",
   "metadata": {},
   "source": [
    "### filter\n",
    "Возвращает следующее значение, соответствующее условию. Опять же в оперативную память попадает только одно значение."
   ]
  },
  {
   "cell_type": "code",
   "execution_count": 22,
   "id": "ac99997e",
   "metadata": {},
   "outputs": [
    {
     "name": "stdout",
     "output_type": "stream",
     "text": [
      "<class 'range'>\n"
     ]
    }
   ],
   "source": []
  },
  {
   "cell_type": "code",
   "execution_count": null,
   "id": "50bf44e8",
   "metadata": {},
   "outputs": [],
   "source": []
  }
 ],
 "metadata": {
  "kernelspec": {
   "display_name": "Python 3 (ipykernel)",
   "language": "python",
   "name": "python3"
  },
  "language_info": {
   "codemirror_mode": {
    "name": "ipython",
    "version": 3
   },
   "file_extension": ".py",
   "mimetype": "text/x-python",
   "name": "python",
   "nbconvert_exporter": "python",
   "pygments_lexer": "ipython3",
   "version": "3.9.12"
  }
 },
 "nbformat": 4,
 "nbformat_minor": 5
}
