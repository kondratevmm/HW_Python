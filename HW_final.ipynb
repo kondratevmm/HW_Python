{
 "cells": [
  {
   "cell_type": "markdown",
   "id": "1530029b",
   "metadata": {},
   "source": [
    "# Задание 1\n",
    "Дана переменная, в которой хранится информация о затратах и доходе рекламных кампаний по различным источникам. Необходимо дополнить исходную структуру показателем ROI, который рассчитаем по формуле: (revenue / cost - 1) * 100. Отсортируйте результат по убыванию рассчитанного показателя ROI.\n",
    "\n",
    "**Пример работы программы**"
   ]
  },
  {
   "cell_type": "markdown",
   "id": "418c3fd6",
   "metadata": {},
   "source": [
    "{'yandex': {'ROI': 16.99, 'cost': 153, 'revenue': 179},\n",
    " 'vk': {'ROI': 5.1, 'cost': 98, 'revenue': 103},\n",
    " 'adwords': {'ROI': 2.94, 'cost': 34, 'revenue': 35},\n",
    " 'facebook': {'ROI': -6.36, 'cost': 110, 'revenue': 103},\n",
    " 'twitter': {'ROI': -54.17, 'cost': 24, 'revenue': 11}\n",
    " }"
   ]
  },
  {
   "cell_type": "code",
   "execution_count": 75,
   "id": "46e1d92b",
   "metadata": {
    "scrolled": true
   },
   "outputs": [
    {
     "data": {
      "text/plain": [
       "{'yandex': {'ROI': 16.99, 'cost': 153, 'revenue': 179},\n",
       " 'vk': {'ROI': 5.1, 'cost': 98, 'revenue': 103},\n",
       " 'adwords': {'ROI': 2.94, 'cost': 34, 'revenue': 35},\n",
       " 'facebook': {'ROI': -6.36, 'cost': 110, 'revenue': 103},\n",
       " 'twitter': {'ROI': -54.17, 'cost': 24, 'revenue': 11}}"
      ]
     },
     "execution_count": 75,
     "metadata": {},
     "output_type": "execute_result"
    }
   ],
   "source": [
    "results = {\n",
    "    'vk': {'revenue': 103, 'cost': 98},\n",
    "    'yandex': {'revenue': 179, 'cost': 153},\n",
    "    'facebook': {'revenue': 103, 'cost': 110},\n",
    "    'adwords': {'revenue': 35, 'cost': 34},\n",
    "    'twitter': {'revenue': 11, 'cost': 24},\n",
    "}\n",
    "\n",
    "for key, value in results.items():\n",
    "    results[key]['ROI'] = round((results[key]['revenue'] / results[key]['cost'] - 1) * 100, 2)\n",
    "    results[key] = dict(sorted(value.items())) # сортировка, что ROI было на первом месте\n",
    "    \n",
    "dict(sorted(results.items(), key = lambda co_name: co_name[1][\"ROI\"], reverse=True))"
   ]
  },
  {
   "cell_type": "markdown",
   "id": "8baa7358",
   "metadata": {},
   "source": [
    "# Задание 2\n",
    "Дан поток дат в формате YYYY-MM-DD, в которых встречаются некорректные значения:\n",
    "stream = [‘2018-04-02’, ‘2018-02-29’, ‘2018-19-02’]\n",
    "\n",
    "Напишите функцию dates_check, которая проверяет эти даты на корректность. Т. е. для каждой даты поставляет значение True (дата корректна) или False (некорректная дата).\n",
    "\n",
    "**Пример работы программы:**"
   ]
  },
  {
   "cell_type": "markdown",
   "id": "cddcafbd",
   "metadata": {},
   "source": [
    "stream = ['2018-04-02', '2018-02-29', '2018-19-02']\n",
    "dates_check(stream)\n",
    "\n",
    "[True, False, False]"
   ]
  },
  {
   "cell_type": "code",
   "execution_count": 90,
   "id": "c70b1acb",
   "metadata": {},
   "outputs": [],
   "source": [
    "stream = ['2018-04-02', '2018-02-29', '2018-19-02', '2022-10-09' ]"
   ]
  },
  {
   "cell_type": "code",
   "execution_count": 91,
   "id": "29c676ac",
   "metadata": {},
   "outputs": [],
   "source": [
    "def data_check(request):\n",
    "    checked_values = []\n",
    "    \n",
    "    for i in request:\n",
    "        try:\n",
    "            datetime.strptime(i, '%Y-%m-%d').date()\n",
    "            checked_values.append(True)\n",
    "        except:\n",
    "            checked_values.append(False)\n",
    "    return(checked_values)"
   ]
  },
  {
   "cell_type": "code",
   "execution_count": 92,
   "id": "7cd916e8",
   "metadata": {
    "scrolled": true
   },
   "outputs": [
    {
     "data": {
      "text/plain": [
       "[True, False, False, True]"
      ]
     },
     "execution_count": 92,
     "metadata": {},
     "output_type": "execute_result"
    }
   ],
   "source": [
    "data_check(stream)"
   ]
  },
  {
   "cell_type": "code",
   "execution_count": 93,
   "id": "04bba75a",
   "metadata": {},
   "outputs": [],
   "source": [
    "# альтернативный вывод - мне показалось, что так будет понятнее. Зависит от решаемой задачи всё же\n",
    "def alt_data_check(request):\n",
    "    alt_checked_values = []\n",
    "\n",
    "    for i in request:\n",
    "        try:\n",
    "            datetime.strptime(i, '%Y-%m-%d').date()\n",
    "            alt_checked_values.append(f'{i} is Correct date')\n",
    "        except:\n",
    "            alt_checked_values.append(f'{i} is Incorrect date')\n",
    "    return(alt_checked_values)"
   ]
  },
  {
   "cell_type": "code",
   "execution_count": 94,
   "id": "820e785b",
   "metadata": {
    "scrolled": false
   },
   "outputs": [
    {
     "data": {
      "text/plain": [
       "['2018-04-02 is Correct date',\n",
       " '2018-02-29 is Incorrect date',\n",
       " '2018-19-02 is Incorrect date',\n",
       " '2022-10-09 is Correct date']"
      ]
     },
     "execution_count": 94,
     "metadata": {},
     "output_type": "execute_result"
    }
   ],
   "source": [
    "alt_data_check(stream)"
   ]
  }
 ],
 "metadata": {
  "kernelspec": {
   "display_name": "Python 3 (ipykernel)",
   "language": "python",
   "name": "python3"
  },
  "language_info": {
   "codemirror_mode": {
    "name": "ipython",
    "version": 3
   },
   "file_extension": ".py",
   "mimetype": "text/x-python",
   "name": "python",
   "nbconvert_exporter": "python",
   "pygments_lexer": "ipython3",
   "version": "3.9.12"
  }
 },
 "nbformat": 4,
 "nbformat_minor": 5
}
