{
 "cells": [
  {
   "cell_type": "markdown",
   "id": "7cf3680a",
   "metadata": {},
   "source": [
    "**Общие требования к программе:**\n",
    "\n",
    "код должен быть грамотно декомпозирован (каждая функция отвечает за свою конкретную задачу, дублирующийся функционал переиспользуется, а его код не повторяется);\n",
    "\n",
    "в коде отсутствуют глобальные переменные (за исключением documents и directories);\n",
    "\n",
    "пользовательский ввод обрабатывается в цикле while до тех пор, пока пользователь явно не завершит программу (вводом команды “q”)."
   ]
  },
  {
   "cell_type": "markdown",
   "id": "421e2c08",
   "metadata": {},
   "source": [
    "## Task 1\n",
    "Пользователь по команде “p” может узнать владельца документа по его номеру\n",
    "\n",
    "Пример работы программы:\n",
    "\n",
    "Введите команду:\n",
    "p\n",
    "\n",
    "Введите номер документа:\n",
    "10006\n",
    "\n",
    "Результат:\n",
    "Владелец документа: Аристарх Павлов"
   ]
  },
  {
   "cell_type": "markdown",
   "id": "71c6fa4e",
   "metadata": {},
   "source": [
    "Вам нужно помочь секретарю автоматизировать работу. Для этого нужно написать программу, которая будет на основе хранимых данных исполнять пользовательские команды.\n",
    "\n",
    "**Исходные данные имеют следующую структуру:**"
   ]
  },
  {
   "cell_type": "code",
   "execution_count": 1,
   "id": "ee7b42d9",
   "metadata": {},
   "outputs": [],
   "source": [
    "# 1. перечень всех документов\n",
    "documents = [\n",
    " {'type': 'passport', 'number': '2207 876234', 'name': 'Василий Гупкин'},\n",
    " {'type': 'invoice', 'number': '11-2', 'name': 'Геннадий Покемонов'},\n",
    " {'type': 'insurance', 'number': '10006', 'name': 'Аристарх Павлов'}\n",
    "]"
   ]
  },
  {
   "cell_type": "code",
   "execution_count": 2,
   "id": "d38d4d59",
   "metadata": {},
   "outputs": [],
   "source": [
    "# 2.перечень полок, на которых хранятся документы (если документ есть в documents, то он обязательно должен быть и в directories)\n",
    "directories = {\n",
    " '1': ['2207 876234', '11-2'],\n",
    " '2': ['10006'],\n",
    " '3': []\n",
    "}\n",
    "# Нужно добавить проверку, если документа нет в директории, то следует его туда добавить???"
   ]
  },
  {
   "cell_type": "code",
   "execution_count": 3,
   "id": "e08c4bcf",
   "metadata": {},
   "outputs": [
    {
     "ename": "IndentationError",
     "evalue": "unexpected indent (4166836719.py, line 11)",
     "output_type": "error",
     "traceback": [
      "\u001b[1;36m  Input \u001b[1;32mIn [3]\u001b[1;36m\u001b[0m\n\u001b[1;33m    break\u001b[0m\n\u001b[1;37m    ^\u001b[0m\n\u001b[1;31mIndentationError\u001b[0m\u001b[1;31m:\u001b[0m unexpected indent\n"
     ]
    }
   ],
   "source": [
    "# проверки\n",
    "def doc_exist(ui) -> str:\n",
    "    while True:\n",
    "        if ui == 'q': # добавляет условие, при котором после ввода \"q\" цикл заканчивается\n",
    "            break\n",
    "        else:    \n",
    "            count_try = 0\n",
    "            while len(documents) <= count_try:\n",
    "                if ui in documents[count_try]['number']: #проверяем значение элементе списка\n",
    "                    return True\n",
    "                    break\n",
    "                else:\n",
    "                    return False\n",
    "                count_try += 1                "
   ]
  },
  {
   "cell_type": "code",
   "execution_count": null,
   "id": "200efd3d",
   "metadata": {},
   "outputs": [],
   "source": [
    "ui = '10006'\n",
    "doc_exist(ui)"
   ]
  },
  {
   "cell_type": "code",
   "execution_count": 3,
   "id": "36ccd7ba",
   "metadata": {},
   "outputs": [],
   "source": [
    "def doc_exist(ui) -> str:\n",
    "    while True:\n",
    "        if ui == 'q': # добавляет условие, при котором после ввода \"q\" цикл заканчивается\n",
    "            break"
   ]
  },
  {
   "cell_type": "code",
   "execution_count": 4,
   "id": "9d76b8f3",
   "metadata": {},
   "outputs": [],
   "source": [
    "# получение имени владельца\n",
    "def p() -> str:  \n",
    "    while True:\n",
    "        ui = str(input('Введите номер документа: '))\n",
    "        if doc_exist(ui) != True:\n",
    "            break\n",
    "        else:\n",
    "            for record in documents:\n",
    "                if record['number'] == ui:\n",
    "                    return('Владелец документа: ' + record['name'])"
   ]
  },
  {
   "cell_type": "code",
   "execution_count": 10,
   "id": "a2748c49",
   "metadata": {},
   "outputs": [],
   "source": [
    "# получение имени владельца\n",
    "\"\"\"def p() -> str:  \n",
    "    while True:\n",
    "        ui = str(input('Введите номер документа: '))\n",
    "        if ui == 'q': # добавляет условие, при котором после ввода \"q\" цикл заканчивается\n",
    "            break\n",
    "        else:\n",
    "            for record in documents:\n",
    "                if record['number'] == ui:\n",
    "                    return('Владелец документа: ' + record['name'])\"\"\""
   ]
  },
  {
   "cell_type": "code",
   "execution_count": null,
   "id": "06db47e4",
   "metadata": {
    "scrolled": true
   },
   "outputs": [
    {
     "name": "stdout",
     "output_type": "stream",
     "text": [
      "Введите номер документа: 10006\n"
     ]
    }
   ],
   "source": [
    "p()"
   ]
  },
  {
   "cell_type": "markdown",
   "id": "b21b0da3",
   "metadata": {},
   "source": [
    "## Task 2\n",
    "Секретарь по команде “s” может по номеру документа узнать на какой полке он (документ) хранится/\n",
    "\n",
    "Пример работы программы:\n",
    "Введите команду:\n",
    "s\n",
    "\n",
    "Введите номер документа:\n",
    "10006\n",
    "\n",
    "Результат:\n",
    "Документ хранится на полке: 2"
   ]
  },
  {
   "cell_type": "code",
   "execution_count": 15,
   "id": "b4753809",
   "metadata": {},
   "outputs": [],
   "source": [
    "# получение номера полки\n",
    "def s() -> str: \n",
    "    while True:\n",
    "        ui = str(input('Введите номер документа: '))\n",
    "        if ui == 'q': # добавляет условие, при котором после ввода \"q\" цикл заканчивается\n",
    "            break\n",
    "        else:\n",
    "            for shelf, documents in directories.items():\n",
    "                if ui in documents:\n",
    "                    return 'Документ хранится на полке: ' + shelf\n",
    "            return 'Документ не найден'"
   ]
  },
  {
   "cell_type": "code",
   "execution_count": 16,
   "id": "699b53e0",
   "metadata": {},
   "outputs": [
    {
     "name": "stdout",
     "output_type": "stream",
     "text": [
      "Введите номер документа: 10006\n"
     ]
    },
    {
     "data": {
      "text/plain": [
       "'Документ хранится на полке: 2'"
      ]
     },
     "execution_count": 16,
     "metadata": {},
     "output_type": "execute_result"
    }
   ],
   "source": [
    "s()"
   ]
  },
  {
   "cell_type": "code",
   "execution_count": null,
   "id": "999202f4",
   "metadata": {},
   "outputs": [],
   "source": []
  }
 ],
 "metadata": {
  "kernelspec": {
   "display_name": "Python 3 (ipykernel)",
   "language": "python",
   "name": "python3"
  },
  "language_info": {
   "codemirror_mode": {
    "name": "ipython",
    "version": 3
   },
   "file_extension": ".py",
   "mimetype": "text/x-python",
   "name": "python",
   "nbconvert_exporter": "python",
   "pygments_lexer": "ipython3",
   "version": "3.9.12"
  }
 },
 "nbformat": 4,
 "nbformat_minor": 5
}
