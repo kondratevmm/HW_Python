{
 "cells": [
  {
   "cell_type": "markdown",
   "id": "0eeeb214",
   "metadata": {},
   "source": [
    "### Task 1"
   ]
  },
  {
   "cell_type": "code",
   "execution_count": 3,
   "id": "effd0997",
   "metadata": {},
   "outputs": [
    {
     "name": "stdout",
     "output_type": "stream",
     "text": [
      "Введите год: 4\n",
      "Високосный год\n"
     ]
    }
   ],
   "source": [
    "year = int(input('Введите год: '))\n",
    "\n",
    "if year % 4 == 0:\n",
    "    print('Високосный год')\n",
    "else:\n",
    "    print('Обычный год')"
   ]
  },
  {
   "cell_type": "markdown",
   "id": "b80888ac",
   "metadata": {},
   "source": [
    "### Task 2"
   ]
  },
  {
   "cell_type": "code",
   "execution_count": 45,
   "id": "3da85578",
   "metadata": {},
   "outputs": [
    {
     "name": "stdout",
     "output_type": "stream",
     "text": [
      "Введите номер билета: 12345678\n",
      "Номер неверный\n",
      "Введите номер билета: 123456\n",
      "Несчастливый билет\n"
     ]
    }
   ],
   "source": [
    "check = 1\n",
    "\n",
    "while check == 1:\n",
    "    ticket_num = int(input('Введите номер билета: '))\n",
    "    first = 0\n",
    "    last = 0\n",
    "\n",
    "    ticket_num = [int(x) for x in str(ticket_num)]\n",
    "    if len(ticket_num) == 6:\n",
    "        for x in range(3):\n",
    "            first = first + ticket_num[x]\n",
    "        for i in range(3, 6):\n",
    "            last = last + ticket_num[i]\n",
    "        if first == last:\n",
    "            print('Счастливый билет')\n",
    "        else:\n",
    "            print('Несчастливый билет')\n",
    "        check = 0\n",
    "    else:\n",
    "        print('Номер неверный')"
   ]
  }
 ],
 "metadata": {
  "kernelspec": {
   "display_name": "Python 3 (ipykernel)",
   "language": "python",
   "name": "python3"
  },
  "language_info": {
   "codemirror_mode": {
    "name": "ipython",
    "version": 3
   },
   "file_extension": ".py",
   "mimetype": "text/x-python",
   "name": "python",
   "nbconvert_exporter": "python",
   "pygments_lexer": "ipython3",
   "version": "3.9.12"
  }
 },
 "nbformat": 4,
 "nbformat_minor": 5
}
